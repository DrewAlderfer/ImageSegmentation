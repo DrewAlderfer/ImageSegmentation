{
 "cells": [
  {
   "cell_type": "code",
   "execution_count": 4,
   "id": "6a3ba5a6",
   "metadata": {},
   "outputs": [],
   "source": [
    "import matplotlib as mpl\n",
    "import matplotlib.pyplot as plt\n",
    "from matplotlib.patches import Rectangle, Polygon, Circle\n",
    "from matplotlib.animation import FuncAnimation, PillowWriter\n",
    "from matplotlib.collections import PolyCollection\n",
    "\n",
    "import numpy as np\n",
    "from sklearn.cluster import KMeans\n",
    "import tensorflow as tf\n",
    "from tensorflow.keras.layers import Layer\n",
    "from tensorflow.keras.losses import Loss\n",
    "from tensorflow.keras.utils import load_img\n",
    "import pprint as pp\n",
    "\n",
    "from src.utils.box_cutter import BoundingBox_Processor\n",
    "from src.utils.classes import CategoricalDataGen\n",
    "from src.utils.funcs import init_COCO, make_predictions"
   ]
  },
  {
   "cell_type": "code",
   "execution_count": null,
   "id": "83354955",
   "metadata": {},
   "outputs": [],
   "source": [
    "%load_ext autoreload"
   ]
  },
  {
   "cell_type": "code",
   "execution_count": null,
   "id": "8ae77da4",
   "metadata": {},
   "outputs": [],
   "source": [
    "%autoreload 2\n",
    "%aimport src.utils.funcs\n",
    "%aimport src.utils.classes"
   ]
  },
  {
   "cell_type": "code",
   "execution_count": null,
   "id": "c0840055",
   "metadata": {},
   "outputs": [],
   "source": [
    "pp.PrettyPrinter(indent=4)"
   ]
  },
  {
   "cell_type": "code",
   "execution_count": null,
   "id": "7d036c6b",
   "metadata": {},
   "outputs": [],
   "source": [
    "data = init_COCO(\"./data/\", ['train', 'val', 'test'])"
   ]
  },
  {
   "cell_type": "code",
   "execution_count": null,
   "id": "2c2edd85",
   "metadata": {
    "lines_to_next_cell": 1
   },
   "outputs": [],
   "source": [
    "train = CategoricalDataGen(data_name='train',\n",
    "                           coco_obj=data,\n",
    "                           image_path='./data/images/',\n",
    "                           target_size=(384, 512))"
   ]
  },
  {
   "cell_type": "code",
   "execution_count": 2,
   "id": "f19b212f",
   "metadata": {
    "lines_to_next_cell": 1
   },
   "outputs": [],
   "source": [
    "def generate_anchors(labels:tf.Tensor, boxes_per_cell:int=3, **kwargs):\n",
    "    # flatten labels\n",
    "    input_shape = labels.shape\n",
    "    batch, xdiv, ydiv, _ = input_shape\n",
    "    box_labels = tf.reshape(labels, [batch * xdiv * ydiv, 19])[..., 14:].numpy()\n",
    "    box_labels[:, 0:1] = 0 \n",
    "    box_labels[:, 1:2] = 0 \n",
    "    # mask no object\n",
    "    mask_labels = tf.cast(tf.reduce_sum(box_labels, axis=-1) > .001, dtype=tf.bool)\n",
    "    box_labels = tf.boolean_mask(box_labels, mask_labels, axis=0).numpy()\n",
    "    # find clusters\n",
    "    clusters = KMeans(n_clusters=boxes_per_cell, max_iter=100, **kwargs)\n",
    "    clusters.fit(box_labels)\n",
    "    # retrieve the cluster space mapping\n",
    "    cls = clusters.predict(box_labels)\n",
    "    cls = np.expand_dims(cls, axis=-1)\n",
    "    # The idea here is to pull the centroids out of the KMeans object by predicting on the labels\n",
    "    # and then looping through the class predictions and taking the mean of each point in the class\n",
    "    centroid_locations = np.ones((13,), dtype=np.float32)\n",
    "    for idx in range(boxes_per_cell):\n",
    "        filter = tf.where(tf.equal(cls, idx),\n",
    "                                 box_labels,\n",
    "                                 np.zeros(box_labels.shape, dtype=np.float32))\n",
    "        mask = tf.cast(tf.abs(tf.reduce_sum(filter, axis=-1)) > .001, dtype=tf.float32)\n",
    "        average = np.append(np.ones((1,), dtype=np.float32), tf.reduce_sum(filter, axis=0) / tf.reduce_sum(mask, axis=0))\n",
    "        centroid_locations = np.append(centroid_locations, average)\n",
    "  \n",
    "    idx_template = np.fromfunction(lambda x, y: [x, y], (xdivs, ydivs), dtype=np.float32)   \n",
    "    knudge_coords = (np.stack((idx_template[0], idx_template[1]), axis=-1) + .5) / np.array([xdivs, ydivs])\n",
    "    anchor_box_template = np.full((xdivs, ydivs, 13 + boxes_per_cell * 6), centroid_locations)\n",
    "    anchor_box_template[..., 14::6] = anchor_box_template[..., 14::6] + knudge_coords[..., 0:1]\n",
    "    anchor_box_template[..., 15::6] = anchor_box_template[..., 15::6] + knudge_coords[..., 1:]\n",
    "\n",
    "    return anchor_box_template"
   ]
  },
  {
   "cell_type": "code",
   "execution_count": null,
   "id": "129cc764",
   "metadata": {},
   "outputs": [],
   "source": [
    "arr = np.asarray(np.fromfunction(lambda x, y: [x, y], (12, 9), dtype=np.float32), dtype=np.float32)\n",
    "dots = (np.stack((arr[0], arr[1]), axis=-1) + .5) / np.array([12, 9])"
   ]
  },
  {
   "cell_type": "code",
   "execution_count": null,
   "id": "e3e12170",
   "metadata": {},
   "outputs": [],
   "source": [
    "divs = (9, 12) \n",
    "n_labels = train.get_labels(divs=divs, num_boxes=3, num_classes=13, normalized=True)\n",
    "labels = train.get_labels(divs=divs, num_boxes=3, num_classes=13)\n",
    "batch, xdiv, ydiv, _ = labels.shape\n",
    "\n",
    "box_cutter = BoundingBox_Processor()\n",
    "batch = n_labels.shape[0]\n",
    "\n",
    "anchors = generate_anchors(n_labels, random_state=1)\n",
    "anchor_tensor = np.full((batch,) + anchors.shape, anchors)\n",
    "\n",
    "a_boxes = box_cutter.get_corners(anchor_tensor)\n",
    "fig, ax = plt.subplots(figsize=(8,6))\n",
    "ax.set(\n",
    "        ylim=[0, 384],\n",
    "        xlim=[0, 512],\n",
    "        xticks=list(range(0, 512,int(512/12))),\n",
    "        yticks=list(range(0, 384, int(384/9))),\n",
    "        )\n",
    "ax.grid(visible=True, zorder=0)\n",
    "ax.set_title(\"Example of Calculated Shape Intersection\")\n",
    "ax.imshow(np.asarray(load_img(\"./data/images/train/screws_002.png\", target_size=(384, 512))), zorder=0, alpha=.6)\n",
    "for i in range(3):\n",
    "    ax.add_patch(Polygon(box_cutter.get_corners(labels)[0][0, 5, 6], fill=None, edgecolor='chartreuse', lw=1, zorder=20))\n",
    "    ax.add_patch(Polygon(a_boxes[i][0,5,6] * np.array([512, 384]), fill=None, edgecolor='fuchsia', lw=1, zorder=20))\n",
    "for i in range(12 * 9):\n",
    "    ax.add_patch(Circle(dots.reshape((12 * 9, 2))[i] * np.array([512, 384]), radius=3))\n",
    "plt.savefig(\"./images/bbox_intersection.png\")\n",
    "plt.show()"
   ]
  },
  {
   "cell_type": "code",
   "execution_count": null,
   "id": "69c372db",
   "metadata": {},
   "outputs": [],
   "source": [
    "print(f\"n_labels: {n_labels[0, 5, 6]}\")\n",
    "print(f\"anchor_tensor: {anchor_tensor[0, 5, 6]}\")"
   ]
  },
  {
   "cell_type": "code",
   "execution_count": null,
   "id": "88a9f843",
   "metadata": {
    "lines_to_next_cell": 1
   },
   "outputs": [],
   "source": [
    "int(divmod(.5, 1/12)[0])\n",
    "int(divmod(.65, 1/9)[0])"
   ]
  },
  {
   "cell_type": "code",
   "execution_count": null,
   "id": "053022aa",
   "metadata": {},
   "outputs": [],
   "source": [
    "class AnchorLayer(Layer):\n",
    "    def __init__(self, *, units, classes, boxes, anchors):\n",
    "        super(AnchorLayer, self).__init__()\n",
    "        self.units = units\n",
    "        self.classes = classes\n",
    "        self.boxes = boxes\n",
    "        self.anchors = anchors\n",
    "        self.box_cutter = BoundingBox_Processor()\n",
    "\n",
    "    def build(self, input_shape):\n",
    "        self.w = self.add_weight(\n",
    "                shape=input_shape[1:-1] + (self.units * self.boxes,),\n",
    "                initializer=\"random_normal\",\n",
    "                trainable=True,\n",
    "                )\n",
    "        self.b = self.add_weight(\n",
    "                shape=(self.boxes * self.units,),\n",
    "                initializer=\"random_normal\",\n",
    "                trainable=True,\n",
    "                )\n",
    "\n",
    "    def call(self, inputs):\n",
    "        x = inputs[..., 13:]\n",
    "        for i in range(self.boxes):\n",
    "            anchor = anchors[..., self.boxes*i:self.boxes + i * self.boxes])\n",
    "            self.box_cutter.IoU(x, anchor)"
   ]
  },
  {
   "cell_type": "code",
   "execution_count": null,
   "id": "05c33541",
   "metadata": {},
   "outputs": [],
   "source": [
    "anchor_layer = AnchorLayer(units=6, classes=13, boxes=3, anchors=None)\n",
    "w, b = anchor_layer(labels)\n",
    "print(f\"w: {w.shape} | b: {b.shape}\")"
   ]
  }
 ],
 "metadata": {
  "jupytext": {
   "cell_metadata_filter": "-all",
   "formats": "ipynb,auto:percent",
   "notebook_metadata_filter": "-all"
  },
  "kernelspec": {
   "display_name": "Python 3 (ipykernel)",
   "language": "python",
   "name": "python3"
  },
  "language_info": {
   "codemirror_mode": {
    "name": "ipython",
    "version": 3
   },
   "file_extension": ".py",
   "mimetype": "text/x-python",
   "name": "python",
   "nbconvert_exporter": "python",
   "pygments_lexer": "ipython3",
   "version": "3.10.8"
  }
 },
 "nbformat": 4,
 "nbformat_minor": 5
}
