{
 "cells": [
  {
   "cell_type": "markdown",
   "metadata": {
    "id": "GSNrY6x4IxOo"
   },
   "source": [
    "# Notebook Setup"
   ]
  },
  {
   "cell_type": "markdown",
   "metadata": {
    "id": "iWuokGYaI2lO"
   },
   "source": [
    "### Pre-Import Tasks"
   ]
  },
  {
   "cell_type": "code",
   "execution_count": 4,
   "metadata": {
    "colab": {
     "base_uri": "https://localhost:8080/",
     "height": 0
    },
    "executionInfo": {
     "elapsed": 2393,
     "status": "ok",
     "timestamp": 1671635014153,
     "user": {
      "displayName": "Andrew Alderfer",
      "userId": "08156228317982242702"
     },
     "user_tz": 300
    },
    "id": "9oG2vmgeHALw",
    "outputId": "46989076-59d0-4a9b-9ce8-dfc4499f78d1"
   },
   "outputs": [
    {
     "name": "stdout",
     "output_type": "stream",
     "text": [
      "Drive already mounted at /content/gdrive; to attempt to forcibly remount, call drive.mount(\"/content/gdrive\", force_remount=True).\n"
     ]
    }
   ],
   "source": [
    "from google.colab import drive\n",
    "drive.mount(\"/content/gdrive\")"
   ]
  },
  {
   "cell_type": "code",
   "execution_count": 2,
   "metadata": {
    "colab": {
     "base_uri": "https://localhost:8080/",
     "height": 539
    },
    "executionInfo": {
     "elapsed": 12290,
     "status": "ok",
     "timestamp": 1671634429569,
     "user": {
      "displayName": "Andrew Alderfer",
      "userId": "08156228317982242702"
     },
     "user_tz": 300
    },
    "id": "iBcgsVNcHOuJ",
    "outputId": "a54b99c2-4425-4c11-a8fa-995413725575"
   },
   "outputs": [
    {
     "name": "stdout",
     "output_type": "stream",
     "text": [
      "Looking in indexes: https://pypi.org/simple, https://us-python.pkg.dev/colab-wheels/public/simple/\n",
      "Requirement already satisfied: matplotlib in /usr/local/lib/python3.8/dist-packages (3.2.2)\n",
      "Collecting matplotlib\n",
      "  Downloading matplotlib-3.6.2-cp38-cp38-manylinux_2_12_x86_64.manylinux2010_x86_64.whl (9.4 MB)\n",
      "\u001b[K     |████████████████████████████████| 9.4 MB 33.6 MB/s \n",
      "\u001b[?25hRequirement already satisfied: python-dateutil>=2.7 in /usr/local/lib/python3.8/dist-packages (from matplotlib) (2.8.2)\n",
      "Requirement already satisfied: numpy>=1.19 in /usr/local/lib/python3.8/dist-packages (from matplotlib) (1.21.6)\n",
      "Requirement already satisfied: kiwisolver>=1.0.1 in /usr/local/lib/python3.8/dist-packages (from matplotlib) (1.4.4)\n",
      "Requirement already satisfied: pyparsing>=2.2.1 in /usr/local/lib/python3.8/dist-packages (from matplotlib) (3.0.9)\n",
      "Requirement already satisfied: cycler>=0.10 in /usr/local/lib/python3.8/dist-packages (from matplotlib) (0.11.0)\n",
      "Requirement already satisfied: pillow>=6.2.0 in /usr/local/lib/python3.8/dist-packages (from matplotlib) (7.1.2)\n",
      "Requirement already satisfied: packaging>=20.0 in /usr/local/lib/python3.8/dist-packages (from matplotlib) (21.3)\n",
      "Collecting fonttools>=4.22.0\n",
      "  Downloading fonttools-4.38.0-py3-none-any.whl (965 kB)\n",
      "\u001b[K     |████████████████████████████████| 965 kB 64.1 MB/s \n",
      "\u001b[?25hCollecting contourpy>=1.0.1\n",
      "  Downloading contourpy-1.0.6-cp38-cp38-manylinux_2_17_x86_64.manylinux2014_x86_64.whl (295 kB)\n",
      "\u001b[K     |████████████████████████████████| 295 kB 78.1 MB/s \n",
      "\u001b[?25hRequirement already satisfied: six>=1.5 in /usr/local/lib/python3.8/dist-packages (from python-dateutil>=2.7->matplotlib) (1.15.0)\n",
      "Installing collected packages: fonttools, contourpy, matplotlib\n",
      "  Attempting uninstall: matplotlib\n",
      "    Found existing installation: matplotlib 3.2.2\n",
      "    Uninstalling matplotlib-3.2.2:\n",
      "      Successfully uninstalled matplotlib-3.2.2\n",
      "Successfully installed contourpy-1.0.6 fonttools-4.38.0 matplotlib-3.6.2\n"
     ]
    },
    {
     "data": {
      "application/vnd.colab-display-data+json": {
       "pip_warning": {
        "packages": [
         "matplotlib",
         "mpl_toolkits"
        ]
       }
      }
     },
     "metadata": {},
     "output_type": "display_data"
    }
   ],
   "source": [
    "! pip install --upgrade matplotlib # ONLY run this cell upon intially opening the notebook"
   ]
  },
  {
   "cell_type": "code",
   "execution_count": 14,
   "metadata": {
    "executionInfo": {
     "elapsed": 36536,
     "status": "ok",
     "timestamp": 1671635335253,
     "user": {
      "displayName": "Andrew Alderfer",
      "userId": "08156228317982242702"
     },
     "user_tz": 300
    },
    "id": "2n5ufb-6HmjA"
   },
   "outputs": [],
   "source": [
    "!cp /content/gdrive/MyDrive/colab_output/project_data_12_21.tar.gz /content/\n",
    "!cp /content/gdrive/MyDrive/colab_output/project_src_12_21.tar.gz /content/\n",
    "!tar -xf /content/project_data_12_21.tar.gz\n",
    "!tar -xf /content/project_src_12_21.tar.gz"
   ]
  },
  {
   "cell_type": "code",
   "execution_count": 7,
   "metadata": {
    "executionInfo": {
     "elapsed": 26,
     "status": "ok",
     "timestamp": 1671635100293,
     "user": {
      "displayName": "Andrew Alderfer",
      "userId": "08156228317982242702"
     },
     "user_tz": 300
    },
    "id": "5gkHgKRKHVKQ"
   },
   "outputs": [],
   "source": [
    "%load_ext autoreload"
   ]
  },
  {
   "cell_type": "markdown",
   "metadata": {
    "id": "mtXz0kMhI_Z3"
   },
   "source": [
    "## Imports"
   ]
  },
  {
   "cell_type": "code",
   "execution_count": 105,
   "metadata": {
    "executionInfo": {
     "elapsed": 325,
     "status": "ok",
     "timestamp": 1671643345618,
     "user": {
      "displayName": "Andrew Alderfer",
      "userId": "08156228317982242702"
     },
     "user_tz": 300
    },
    "id": "y0ESG0DRHhx9"
   },
   "outputs": [],
   "source": [
    "import os\n",
    "import json\n",
    "from pathlib import Path\n",
    "import pprint as pp\n",
    "from glob import glob, iglob\n",
    "from PIL import Image, ImageFilter, ImageDraw\n",
    "from typing import List, Union, Tuple, BinaryIO\n",
    "import shutil\n",
    "\n",
    "import pickle\n",
    "import tensorflow as tf\n",
    "from tensorflow.keras import layers, losses, metrics\n",
    "from tensorflow.keras.models import Model\n",
    "from tensorflow.keras.utils import image_dataset_from_directory, load_img\n",
    "from tensorflow.keras.preprocessing.image import ImageDataGenerator\n",
    "\n",
    "from pycocotools.coco import COCO\n",
    "\n",
    "import matplotlib.pyplot as plt\n",
    "import matplotlib.colors as mcolors\n",
    "from matplotlib.animation import FuncAnimation, PillowWriter\n",
    "from matplotlib.patches import Rectangle, Polygon, Circle\n",
    "\n",
    "import numpy as np\n",
    "import pandas as pd\n",
    "from tabulate import tabulate\n",
    "from IPython.display import HTML\n",
    "\n",
    "from src.utils.funcs import *\n",
    "from src.utils.classes import data_generator, CategoricalDataGen\n",
    "from src.models.layers import CNNBlock"
   ]
  },
  {
   "cell_type": "code",
   "execution_count": 29,
   "metadata": {
    "executionInfo": {
     "elapsed": 309,
     "status": "ok",
     "timestamp": 1671639797860,
     "user": {
      "displayName": "Andrew Alderfer",
      "userId": "08156228317982242702"
     },
     "user_tz": 300
    },
    "id": "GEEkEMVyIQaj"
   },
   "outputs": [],
   "source": [
    "%autoreload 1\n",
    "%aimport src.utils.funcs\n",
    "%aimport src.utils.classes\n",
    "%aimport src.models.layers"
   ]
  },
  {
   "cell_type": "code",
   "execution_count": 17,
   "metadata": {
    "colab": {
     "base_uri": "https://localhost:8080/",
     "height": 0
    },
    "executionInfo": {
     "elapsed": 411,
     "status": "ok",
     "timestamp": 1671635356503,
     "user": {
      "displayName": "Andrew Alderfer",
      "userId": "08156228317982242702"
     },
     "user_tz": 300
    },
    "id": "vy-Q1KIdIsqO",
    "outputId": "f7f3dcb4-54fa-40c9-97ce-98901a76ebde"
   },
   "outputs": [
    {
     "data": {
      "text/plain": [
       "<pprint.PrettyPrinter at 0x7f9bcee65e20>"
      ]
     },
     "execution_count": 17,
     "metadata": {},
     "output_type": "execute_result"
    }
   ],
   "source": [
    "pp.PrettyPrinter(indent=4)"
   ]
  },
  {
   "cell_type": "markdown",
   "metadata": {
    "id": "Y3xjq4l0P4RE"
   },
   "source": [
    "# Initializing Data Information"
   ]
  },
  {
   "cell_type": "code",
   "execution_count": 18,
   "metadata": {
    "colab": {
     "base_uri": "https://localhost:8080/",
     "height": 0
    },
    "executionInfo": {
     "elapsed": 517,
     "status": "ok",
     "timestamp": 1671635359559,
     "user": {
      "displayName": "Andrew Alderfer",
      "userId": "08156228317982242702"
     },
     "user_tz": 300
    },
    "id": "QzCNYkCcPRo9",
    "outputId": "8a923c2d-97cd-41b6-853f-0d5f125ff84a"
   },
   "outputs": [
    {
     "name": "stdout",
     "output_type": "stream",
     "text": [
      "loading annotations into memory...\n",
      "Done (t=0.02s)\n",
      "creating index...\n",
      "index created!\n",
      "Found 269 train images\n",
      "loading annotations into memory...\n",
      "Done (t=0.00s)\n",
      "creating index...\n",
      "index created!\n",
      "Found 55 val images\n"
     ]
    }
   ],
   "source": [
    "data = init_COCO([\"train\", \"val\"])"
   ]
  },
  {
   "cell_type": "code",
   "execution_count": 19,
   "metadata": {
    "colab": {
     "base_uri": "https://localhost:8080/",
     "height": 0
    },
    "executionInfo": {
     "elapsed": 801,
     "status": "ok",
     "timestamp": 1671635373595,
     "user": {
      "displayName": "Andrew Alderfer",
      "userId": "08156228317982242702"
     },
     "user_tz": 300
    },
    "id": "A6mEqdUHPbUw",
    "outputId": "2d1e8c08-ddf8-4865-f4f0-e7a0631f4a1e"
   },
   "outputs": [
    {
     "data": {
      "text/plain": [
       "6     270\n",
       "5     269\n",
       "8     254\n",
       "7     252\n",
       "10    250\n",
       "11    249\n",
       "12    233\n",
       "13    232\n",
       "9     231\n",
       "3     221\n",
       "4     220\n",
       "2     219\n",
       "1     219\n",
       "Name: category_id, dtype: int64"
      ]
     },
     "execution_count": 19,
     "metadata": {},
     "output_type": "execute_result"
    }
   ],
   "source": [
    "train_df = pd.DataFrame(data['train']['annotations'])\n",
    "train_df['category_id'].value_counts()"
   ]
  },
  {
   "cell_type": "markdown",
   "metadata": {
    "id": "NuqXCNscQNJ3"
   },
   "source": [
    "# Constructing X and y training sets"
   ]
  },
  {
   "cell_type": "markdown",
   "metadata": {
    "id": "HYTbbnG9QK2z"
   },
   "source": [
    "```python\n",
    "X_train = CategoricalDataGen(\"train\", data, \"/content/data/images\", target_size=(192, 256))\n",
    "```"
   ]
  },
  {
   "cell_type": "markdown",
   "metadata": {
    "id": "pJjt0bhcf4aX"
   },
   "source": [
    "```python\n",
    "batch = X_train.batch(batch_size=16)\n",
    "for x, y in batch:\n",
    "    print(x.shape, y.shape)\n",
    "```"
   ]
  },
  {
   "cell_type": "code",
   "execution_count": 22,
   "metadata": {
    "executionInfo": {
     "elapsed": 301,
     "status": "ok",
     "timestamp": 1671638714847,
     "user": {
      "displayName": "Andrew Alderfer",
      "userId": "08156228317982242702"
     },
     "user_tz": 300
    },
    "id": "ppJWFh26hnti"
   },
   "outputs": [],
   "source": [
    "target_size = (192, 256)\n",
    "validation = CategoricalDataGen(\"val\", data, \"/content/data/images\", target_size=target_size)\n",
    "training = CategoricalDataGen(\"train\", data, \"/content/data/images\", target_size=target_size)"
   ]
  },
  {
   "cell_type": "code",
   "execution_count": 23,
   "metadata": {
    "executionInfo": {
     "elapsed": 43251,
     "status": "ok",
     "timestamp": 1671638764517,
     "user": {
      "displayName": "Andrew Alderfer",
      "userId": "08156228317982242702"
     },
     "user_tz": 300
    },
    "id": "LVmisJTdt3lA"
   },
   "outputs": [],
   "source": [
    "X_train, y_train = np.empty((0, 192, 256, 3), dtype=np.float32), np.empty((0, 13), dtype=np.float32)\n",
    "X_val, y_val = np.empty((0, 192, 256, 3), dtype=np.float32), np.empty((0, 13), dtype=np.float32)\n",
    "\n",
    "for x, y in training.batch(batch_size=16):\n",
    "    X_train = np.append(X_train, x, axis=0)\n",
    "    y_train = np.append(y_train, y, axis=0)\n",
    "\n",
    "for x, y in validation.batch(batch_size=16):\n",
    "    X_val = np.append(X_val, x, axis=0)\n",
    "    y_val = np.append(y_val, y, axis=0)"
   ]
  },
  {
   "cell_type": "code",
   "execution_count": null,
   "metadata": {
    "id": "V9efxk_7-aQI"
   },
   "outputs": [],
   "source": []
  },
  {
   "cell_type": "code",
   "execution_count": 164,
   "metadata": {
    "colab": {
     "base_uri": "https://localhost:8080/"
    },
    "executionInfo": {
     "elapsed": 395,
     "status": "ok",
     "timestamp": 1671645970352,
     "user": {
      "displayName": "Andrew Alderfer",
      "userId": "08156228317982242702"
     },
     "user_tz": 300
    },
    "id": "-y3JbKOjb_74",
    "outputId": "4ea54709-80e5-445a-e25c-959798a6944b"
   },
   "outputs": [
    {
     "name": "stdout",
     "output_type": "stream",
     "text": [
      "Model: \"model_26\"\n",
      "__________________________________________________________________________________________________\n",
      " Layer (type)                   Output Shape         Param #     Connected to                     \n",
      "==================================================================================================\n",
      " input_33 (InputLayer)          [(None, 192, 256, 3  0           []                               \n",
      "                                )]                                                                \n",
      "                                                                                                  \n",
      " separable_conv2d_20 (Separable  (None, 96, 128, 32)  155        ['input_33[0][0]']               \n",
      " Conv2D)                                                                                          \n",
      "                                                                                                  \n",
      " separable_conv2d_21 (Separable  (None, 48, 64, 64)  2400        ['separable_conv2d_20[0][0]']    \n",
      " Conv2D)                                                                                          \n",
      "                                                                                                  \n",
      " residual_01 (Conv2D)           (None, 48, 64, 64)   2112        ['separable_conv2d_20[0][0]']    \n",
      "                                                                                                  \n",
      " add_33 (Add)                   (None, 48, 64, 64)   0           ['separable_conv2d_21[0][0]',    \n",
      "                                                                  'residual_01[0][0]']            \n",
      "                                                                                                  \n",
      " separable_conv2d_22 (Separable  (None, 24, 32, 128)  8896       ['add_33[0][0]']                 \n",
      " Conv2D)                                                                                          \n",
      "                                                                                                  \n",
      " residual_02 (Conv2D)           (None, 24, 32, 128)  8320        ['add_33[0][0]']                 \n",
      "                                                                                                  \n",
      " add_34 (Add)                   (None, 24, 32, 128)  0           ['separable_conv2d_22[0][0]',    \n",
      "                                                                  'residual_02[0][0]']            \n",
      "                                                                                                  \n",
      " separable_conv2d_23 (Separable  (None, 12, 16, 256)  34176      ['add_34[0][0]']                 \n",
      " Conv2D)                                                                                          \n",
      "                                                                                                  \n",
      " residual_03 (Conv2D)           (None, 12, 16, 256)  33024       ['add_34[0][0]']                 \n",
      "                                                                                                  \n",
      " add_35 (Add)                   (None, 12, 16, 256)  0           ['separable_conv2d_23[0][0]',    \n",
      "                                                                  'residual_03[0][0]']            \n",
      "                                                                                                  \n",
      " separable_conv2d_24 (Separable  (None, 6, 8, 512)   133888      ['add_35[0][0]']                 \n",
      " Conv2D)                                                                                          \n",
      "                                                                                                  \n",
      " global_average_pooling2d_18 (G  (None, 512)         0           ['separable_conv2d_24[0][0]']    \n",
      " lobalAveragePooling2D)                                                                           \n",
      "                                                                                                  \n",
      " dense_27 (Dense)               (None, 13)           6669        ['global_average_pooling2d_18[0][\n",
      "                                                                 0]']                             \n",
      "                                                                                                  \n",
      "==================================================================================================\n",
      "Total params: 229,640\n",
      "Trainable params: 229,640\n",
      "Non-trainable params: 0\n",
      "__________________________________________________________________________________________________\n"
     ]
    }
   ],
   "source": [
    "def simple_classifier(input_shape, num_classes):\n",
    "    inputs = tf.keras.Input(shape=input_shape)\n",
    "\n",
    "    x = layers.SeparableConv2D(32, 3, activation='relu', padding='same', strides=2)(inputs)\n",
    "    x = layers.SeparableConv2D(64, 3, activation='relu', padding='same', strides=2)(x)\n",
    "    x = layers.SeparableConv2D(128, 3, activation='relu', padding='same', strides=2)(x)\n",
    "    x = layers.SeparableConv2D(256, 3, activation='relu', strides=2, padding='same')(x)\n",
    "    x = layers.SeparableConv2D(512, 3, activation='relu', strides=2, padding='same')(x)\n",
    "\n",
    "    x = layers.GlobalAveragePooling2D()(x)\n",
    "    outputs = layers.Dense(13, activation='sigmoid')(x)\n",
    "\n",
    "    model = tf.keras.Model(inputs, outputs)\n",
    "    return model\n",
    "     \n",
    "classifier = simple_classifier((192, 256, 3), 13)\n",
    "classifier.summary()"
   ]
  },
  {
   "cell_type": "code",
   "execution_count": 165,
   "metadata": {
    "executionInfo": {
     "elapsed": 4,
     "status": "ok",
     "timestamp": 1671645983252,
     "user": {
      "displayName": "Andrew Alderfer",
      "userId": "08156228317982242702"
     },
     "user_tz": 300
    },
    "id": "0ge7R9sjl9rn"
   },
   "outputs": [],
   "source": [
    "classifier.compile(optimizer='adam',\n",
    "                   loss=losses.CategoricalCrossentropy(from_logits=True),\n",
    "                   metrics=['accuracy'])"
   ]
  },
  {
   "cell_type": "code",
   "execution_count": 166,
   "metadata": {
    "colab": {
     "base_uri": "https://localhost:8080/"
    },
    "executionInfo": {
     "elapsed": 41914,
     "status": "ok",
     "timestamp": 1671646027396,
     "user": {
      "displayName": "Andrew Alderfer",
      "userId": "08156228317982242702"
     },
     "user_tz": 300
    },
    "id": "QeINhymbmeGD",
    "outputId": "b2633bba-150d-4255-d9c5-c174513f65e7"
   },
   "outputs": [
    {
     "name": "stdout",
     "output_type": "stream",
     "text": [
      "Epoch 1/50\n"
     ]
    },
    {
     "name": "stderr",
     "output_type": "stream",
     "text": [
      "/usr/local/lib/python3.8/dist-packages/tensorflow/python/util/dispatch.py:1082: UserWarning: \"`categorical_crossentropy` received `from_logits=True`, but the `output` argument was produced by a sigmoid or softmax activation and thus does not represent logits. Was this intended?\"\n",
      "  return dispatch_target(*args, **kwargs)\n"
     ]
    },
    {
     "name": "stdout",
     "output_type": "stream",
     "text": [
      "9/9 [==============================] - 2s 92ms/step - loss: 2.4521 - accuracy: 0.1041 - val_loss: 8.2502 - val_accuracy: 0.2182\n",
      "Epoch 2/50\n",
      "9/9 [==============================] - 1s 60ms/step - loss: 2.4135 - accuracy: 0.1078 - val_loss: 8.3512 - val_accuracy: 0.0182\n",
      "Epoch 3/50\n",
      "9/9 [==============================] - 1s 59ms/step - loss: 2.3830 - accuracy: 0.0223 - val_loss: 8.4863 - val_accuracy: 0.0545\n",
      "Epoch 4/50\n",
      "9/9 [==============================] - 1s 60ms/step - loss: 2.3752 - accuracy: 0.0223 - val_loss: 8.5526 - val_accuracy: 0.0545\n",
      "Epoch 5/50\n",
      "9/9 [==============================] - 1s 60ms/step - loss: 2.3788 - accuracy: 0.0074 - val_loss: 8.4585 - val_accuracy: 0.0909\n",
      "Epoch 6/50\n",
      "9/9 [==============================] - 1s 59ms/step - loss: 2.3735 - accuracy: 0.0074 - val_loss: 8.3933 - val_accuracy: 0.0909\n",
      "Epoch 7/50\n",
      "9/9 [==============================] - 1s 60ms/step - loss: 2.3780 - accuracy: 0.2416 - val_loss: 8.5099 - val_accuracy: 0.2182\n",
      "Epoch 8/50\n",
      "9/9 [==============================] - 1s 59ms/step - loss: 2.3747 - accuracy: 0.1933 - val_loss: 8.4290 - val_accuracy: 0.0182\n",
      "Epoch 9/50\n",
      "9/9 [==============================] - 1s 59ms/step - loss: 2.3765 - accuracy: 0.0223 - val_loss: 8.5535 - val_accuracy: 0.0182\n",
      "Epoch 10/50\n",
      "9/9 [==============================] - 1s 59ms/step - loss: 2.3759 - accuracy: 0.0223 - val_loss: 8.4696 - val_accuracy: 0.0182\n",
      "Epoch 11/50\n",
      "9/9 [==============================] - 1s 60ms/step - loss: 2.3748 - accuracy: 0.0223 - val_loss: 8.4361 - val_accuracy: 0.0182\n",
      "Epoch 12/50\n",
      "9/9 [==============================] - 1s 60ms/step - loss: 2.3760 - accuracy: 0.0223 - val_loss: 8.5687 - val_accuracy: 0.0909\n",
      "Epoch 13/50\n",
      "9/9 [==============================] - 1s 59ms/step - loss: 2.3731 - accuracy: 0.0074 - val_loss: 8.4213 - val_accuracy: 0.0909\n",
      "Epoch 14/50\n",
      "9/9 [==============================] - 1s 60ms/step - loss: 2.3717 - accuracy: 0.0074 - val_loss: 8.4967 - val_accuracy: 0.0909\n",
      "Epoch 15/50\n",
      "9/9 [==============================] - 1s 63ms/step - loss: 2.3723 - accuracy: 0.7026 - val_loss: 8.4593 - val_accuracy: 0.2182\n",
      "Epoch 16/50\n",
      "9/9 [==============================] - 1s 64ms/step - loss: 2.3671 - accuracy: 0.8067 - val_loss: 8.5559 - val_accuracy: 0.2182\n",
      "Epoch 17/50\n",
      "9/9 [==============================] - 1s 59ms/step - loss: 2.3775 - accuracy: 0.8067 - val_loss: 8.5572 - val_accuracy: 0.2182\n",
      "Epoch 18/50\n",
      "9/9 [==============================] - 1s 60ms/step - loss: 2.3630 - accuracy: 0.5762 - val_loss: 8.4421 - val_accuracy: 0.0545\n",
      "Epoch 19/50\n",
      "9/9 [==============================] - 1s 61ms/step - loss: 2.3649 - accuracy: 0.0186 - val_loss: 8.5453 - val_accuracy: 0.0909\n",
      "Epoch 20/50\n",
      "9/9 [==============================] - 1s 60ms/step - loss: 2.3460 - accuracy: 0.0223 - val_loss: 8.5780 - val_accuracy: 0.0182\n",
      "Epoch 21/50\n",
      "9/9 [==============================] - 1s 59ms/step - loss: 2.3295 - accuracy: 0.0260 - val_loss: 8.4870 - val_accuracy: 0.0909\n",
      "Epoch 22/50\n",
      "9/9 [==============================] - 1s 61ms/step - loss: 2.3160 - accuracy: 0.0112 - val_loss: 8.3975 - val_accuracy: 0.1091\n",
      "Epoch 23/50\n",
      "9/9 [==============================] - 1s 60ms/step - loss: 2.2913 - accuracy: 0.0297 - val_loss: 8.8244 - val_accuracy: 0.0909\n",
      "Epoch 24/50\n",
      "9/9 [==============================] - 1s 65ms/step - loss: 2.2510 - accuracy: 0.0112 - val_loss: 8.6456 - val_accuracy: 0.0364\n",
      "Epoch 25/50\n",
      "9/9 [==============================] - 1s 59ms/step - loss: 2.2131 - accuracy: 0.3606 - val_loss: 9.1980 - val_accuracy: 0.0364\n",
      "Epoch 26/50\n",
      "9/9 [==============================] - 1s 63ms/step - loss: 2.2155 - accuracy: 0.0743 - val_loss: 10.5875 - val_accuracy: 0.0364\n",
      "Epoch 27/50\n",
      "9/9 [==============================] - 1s 59ms/step - loss: 2.3485 - accuracy: 0.0335 - val_loss: 9.8639 - val_accuracy: 0.0364\n",
      "Epoch 28/50\n",
      "9/9 [==============================] - 1s 59ms/step - loss: 2.2263 - accuracy: 0.0669 - val_loss: 9.4914 - val_accuracy: 0.0364\n",
      "Epoch 29/50\n",
      "9/9 [==============================] - 1s 59ms/step - loss: 2.2167 - accuracy: 0.0186 - val_loss: 9.3141 - val_accuracy: 0.0000e+00\n",
      "Epoch 30/50\n",
      "9/9 [==============================] - 1s 60ms/step - loss: 2.2573 - accuracy: 0.2119 - val_loss: 9.8165 - val_accuracy: 0.0182\n",
      "Epoch 31/50\n",
      "9/9 [==============================] - 1s 60ms/step - loss: 2.3537 - accuracy: 0.0223 - val_loss: 9.3180 - val_accuracy: 0.0182\n",
      "Epoch 32/50\n",
      "9/9 [==============================] - 1s 60ms/step - loss: 2.1990 - accuracy: 0.4684 - val_loss: 10.3330 - val_accuracy: 0.0545\n",
      "Epoch 33/50\n",
      "9/9 [==============================] - 1s 60ms/step - loss: 2.3064 - accuracy: 0.0112 - val_loss: 9.8481 - val_accuracy: 0.0364\n",
      "Epoch 34/50\n",
      "9/9 [==============================] - 1s 59ms/step - loss: 2.2307 - accuracy: 0.0223 - val_loss: 9.6173 - val_accuracy: 0.0909\n",
      "Epoch 35/50\n",
      "9/9 [==============================] - 1s 60ms/step - loss: 2.2708 - accuracy: 0.1004 - val_loss: 10.3523 - val_accuracy: 0.0364\n",
      "Epoch 36/50\n",
      "9/9 [==============================] - 1s 59ms/step - loss: 2.2931 - accuracy: 0.0483 - val_loss: 10.0530 - val_accuracy: 0.0182\n",
      "Epoch 37/50\n",
      "9/9 [==============================] - 1s 59ms/step - loss: 2.3968 - accuracy: 0.1301 - val_loss: 10.2292 - val_accuracy: 0.0909\n",
      "Epoch 38/50\n",
      "9/9 [==============================] - 1s 59ms/step - loss: 2.2920 - accuracy: 0.0260 - val_loss: 10.5650 - val_accuracy: 0.0545\n",
      "Epoch 39/50\n",
      "9/9 [==============================] - 1s 64ms/step - loss: 2.2968 - accuracy: 0.2454 - val_loss: 9.8919 - val_accuracy: 0.0182\n",
      "Epoch 40/50\n",
      "9/9 [==============================] - 1s 60ms/step - loss: 2.2572 - accuracy: 0.1450 - val_loss: 9.8197 - val_accuracy: 0.1273\n",
      "Epoch 41/50\n",
      "9/9 [==============================] - 1s 64ms/step - loss: 2.2194 - accuracy: 0.2305 - val_loss: 10.2863 - val_accuracy: 0.0545\n",
      "Epoch 42/50\n",
      "9/9 [==============================] - 1s 63ms/step - loss: 2.2526 - accuracy: 0.0335 - val_loss: 9.9664 - val_accuracy: 0.0909\n",
      "Epoch 43/50\n",
      "9/9 [==============================] - 1s 60ms/step - loss: 2.5766 - accuracy: 0.0892 - val_loss: 10.0645 - val_accuracy: 0.0000e+00\n",
      "Epoch 44/50\n",
      "9/9 [==============================] - 1s 61ms/step - loss: 2.3842 - accuracy: 0.0223 - val_loss: 11.0825 - val_accuracy: 0.1091\n",
      "Epoch 45/50\n",
      "9/9 [==============================] - 1s 60ms/step - loss: 2.2788 - accuracy: 0.0149 - val_loss: 10.3391 - val_accuracy: 0.0364\n",
      "Epoch 46/50\n",
      "9/9 [==============================] - 1s 60ms/step - loss: 2.2599 - accuracy: 0.0186 - val_loss: 10.2046 - val_accuracy: 0.0364\n",
      "Epoch 47/50\n",
      "9/9 [==============================] - 1s 63ms/step - loss: 2.2431 - accuracy: 0.0929 - val_loss: 10.7291 - val_accuracy: 0.0364\n",
      "Epoch 48/50\n",
      "9/9 [==============================] - 1s 60ms/step - loss: 2.3283 - accuracy: 0.1487 - val_loss: 11.0107 - val_accuracy: 0.0545\n",
      "Epoch 49/50\n",
      "9/9 [==============================] - 1s 60ms/step - loss: 2.3273 - accuracy: 0.1338 - val_loss: 11.0086 - val_accuracy: 0.0364\n",
      "Epoch 50/50\n",
      "9/9 [==============================] - 1s 63ms/step - loss: 2.4362 - accuracy: 0.1078 - val_loss: 10.6512 - val_accuracy: 0.0182\n"
     ]
    }
   ],
   "source": [
    "history = classifier.fit(X_train, y_train,\n",
    "                    epochs=50,\n",
    "                    batch_size=32,\n",
    "                    validation_data=(X_val, y_val))"
   ]
  },
  {
   "cell_type": "code",
   "execution_count": 167,
   "metadata": {
    "colab": {
     "base_uri": "https://localhost:8080/",
     "height": 282
    },
    "executionInfo": {
     "elapsed": 333,
     "status": "ok",
     "timestamp": 1671646029621,
     "user": {
      "displayName": "Andrew Alderfer",
      "userId": "08156228317982242702"
     },
     "user_tz": 300
    },
    "id": "7ZblDvGMs2z8",
    "outputId": "fc6b787c-b08b-4e62-9677-5ec35bab53cb"
   },
   "outputs": [
    {
     "data": {
      "text/plain": [
       "[<matplotlib.lines.Line2D at 0x7f9afc21ff40>]"
      ]
     },
     "execution_count": 167,
     "metadata": {},
     "output_type": "execute_result"
    },
    {
     "data": {
      "image/png": "[encoded data removed]",
      "text/plain": [
       "<Figure size 432x288 with 1 Axes>"
      ]
     },
     "metadata": {
      "needs_background": "light"
     },
     "output_type": "display_data"
    }
   ],
   "source": [
    "fig, ax = plt.pyplot.subplots()\n",
    "ax.plot(history.history['loss'])\n",
    "ax.plot(history.history['val_loss'])"
   ]
  },
  {
   "cell_type": "code",
   "execution_count": 154,
   "metadata": {
    "colab": {
     "base_uri": "https://localhost:8080/"
    },
    "executionInfo": {
     "elapsed": 363,
     "status": "ok",
     "timestamp": 1671645620503,
     "user": {
      "displayName": "Andrew Alderfer",
      "userId": "08156228317982242702"
     },
     "user_tz": 300
    },
    "id": "hr2gQ2wqnngN",
    "outputId": "da8974c3-b73c-465c-f87e-6ee48cc39688"
   },
   "outputs": [
    {
     "name": "stdout",
     "output_type": "stream",
     "text": [
      "1/1 [==============================] - 0s 108ms/step\n"
     ]
    }
   ],
   "source": [
    "preds = classifier.predict(X_val[:20])"
   ]
  },
  {
   "cell_type": "code",
   "execution_count": 155,
   "metadata": {
    "colab": {
     "base_uri": "https://localhost:8080/"
    },
    "executionInfo": {
     "elapsed": 385,
     "status": "ok",
     "timestamp": 1671645624387,
     "user": {
      "displayName": "Andrew Alderfer",
      "userId": "08156228317982242702"
     },
     "user_tz": 300
    },
    "id": "C6PaWMJPn0c-",
    "outputId": "07eb228c-6414-4472-a069-5fa74d019a8d"
   },
   "outputs": [
    {
     "name": "stdout",
     "output_type": "stream",
     "text": [
      "[[0. 1. 1. 1. 0. 1. 1. 1. 0. 0. 0. 0. 0.]\n",
      " [1. 1. 1. 1. 1. 1. 1. 1. 0. 0. 0. 0. 0.]\n",
      " [0. 1. 1. 0. 0. 1. 0. 0. 1. 1. 1. 1. 1.]] \n",
      " [[0.11709909 0.10690407 0.12358815 0.13259469 0.11303666 0.12437276\n",
      "  0.11307201 0.12455273 0.0088567  0.00906668 0.0083884  0.0080873\n",
      "  0.00592987]\n",
      " [0.13533914 0.10530239 0.13280909 0.11882445 0.11338406 0.10828715\n",
      "  0.11850473 0.11795162 0.02468243 0.02782483 0.03470737 0.02153925\n",
      "  0.0319065 ]\n",
      " [0.12063749 0.09289061 0.12475853 0.1003157  0.10344582 0.09357949\n",
      "  0.10950865 0.10342821 0.01993318 0.02204906 0.02019766 0.01686893\n",
      "  0.01668625]]\n"
     ]
    }
   ],
   "source": [
    "print(y_val[:3],\"\\n\", preds[:3])"
   ]
  }
 ],
 "metadata": {
  "accelerator": "GPU",
  "colab": {
   "authorship_tag": "ABX9TyPcgHpk4inXoQbcgvUP2I89",
   "provenance": []
  },
  "gpuClass": "standard",
  "kernelspec": {
   "display_name": "Python 3 (ipykernel)",
   "language": "python",
   "name": "python3"
  },
  "language_info": {
   "codemirror_mode": {
    "name": "ipython",
    "version": 3
   },
   "file_extension": ".py",
   "mimetype": "text/x-python",
   "name": "python",
   "nbconvert_exporter": "python",
   "pygments_lexer": "ipython3",
   "version": "3.10.8"
  }
 },
 "nbformat": 4,
 "nbformat_minor": 1
}
