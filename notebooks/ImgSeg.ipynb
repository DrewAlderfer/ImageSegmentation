{
 "cells": [
  {
   "cell_type": "markdown",
   "metadata": {
    "id": "XV6iSjYMv9jU"
   },
   "source": [
    "# Section 1: Env Setup\n",
    "- Load data in tar file\n",
    "- Mount Google Drive\n",
    "- pip upgrade matplotlib dependencies\n",
    "- Imports"
   ]
  },
  {
   "cell_type": "markdown",
   "metadata": {
    "id": "sPtNi1flqDAk"
   },
   "source": [
    "## ENV"
   ]
  },
  {
   "cell_type": "code",
   "execution_count": null,
   "metadata": {
    "id": "8VZ_Lk8lCpem"
   },
   "outputs": [],
   "source": [
    "%%javascript\n",
    "function ClickConnect(){\n",
    "console.log(\"Working\");\n",
    "document.querySelector(\"colab-toolbar-button#connect\").click()\n",
    "}setInterval(ClickConnect,60000)"
   ]
  },
  {
   "cell_type": "code",
   "execution_count": null,
   "metadata": {
    "id": "xfDYJ1Tu5tYX"
   },
   "outputs": [],
   "source": [
    "from google.colab import drive\n",
    "drive.mount(\"/content/gdrive\")\n"
   ]
  },
  {
   "cell_type": "code",
   "execution_count": null,
   "metadata": {
    "id": "WcbjQcX6mw3H"
   },
   "outputs": [],
   "source": [
    "!cp /content/gdrive/MyDrive/colab_output/project_0123.tar.gz /content/\n",
    "!tar -xf /content/project_0123.tar.gz"
   ]
  },
  {
   "cell_type": "code",
   "execution_count": null,
   "metadata": {
    "id": "9Is9JwO4v84A"
   },
   "outputs": [],
   "source": [
    "! pip install --upgrade matplotlib # ONLY run this cell upon intially opening the notebook"
   ]
  },
  {
   "cell_type": "code",
   "execution_count": null,
   "metadata": {
    "id": "Cv-D_gKP0dto"
   },
   "outputs": [],
   "source": [
    "# ! wget https://www.mydrive.ch/shares/39258/39d0eaefc4dc611048ec970f886bad8d/download/420939224-1629955498/mvtec_screws_v1.0.tar.gz"
   ]
  },
  {
   "cell_type": "code",
   "execution_count": null,
   "metadata": {
    "id": "tNXaNtaEyL7n"
   },
   "outputs": [],
   "source": [
    "#@title\n",
    "# !tar -xf /content/data/mvtec_screws_v1.0.tar.gz\n",
    "# !unzip /content/data/masks.zip"
   ]
  },
  {
   "cell_type": "code",
   "execution_count": null,
   "metadata": {
    "id": "GoFWJXUjAcOP"
   },
   "outputs": [],
   "source": [
    "%load_ext autoreload"
   ]
  },
  {
   "cell_type": "code",
   "execution_count": null,
   "metadata": {
    "id": "kgJ3Gt15AheB"
   },
   "outputs": [],
   "source": [
    "%autoreload 2\n",
    "%aimport src.utils.box_cutter\n",
    "%aimport src.utils.funcs\n",
    "%aimport src.utils.classes\n",
    "%aimport src.models.models\n",
    "%aimport src.models.layers\n"
   ]
  },
  {
   "cell_type": "markdown",
   "metadata": {
    "id": "Ezk1Al9Ep_YY"
   },
   "source": [
    "## Imports"
   ]
  },
  {
   "cell_type": "code",
   "execution_count": null,
   "metadata": {
    "id": "wGd05hp4yVpy"
   },
   "outputs": [],
   "source": [
    "import os\n",
    "import json\n",
    "from pathlib import Path\n",
    "import pprint as pp\n",
    "from glob import glob, iglob\n",
    "from PIL import Image, ImageFilter, ImageDraw\n",
    "from typing import List, Union, Tuple, BinaryIO\n",
    "import shutil\n",
    "\n",
    "import pickle\n",
    "import tensorflow as tf\n",
    "from tensorflow.keras import layers, losses, metrics\n",
    "from tensorflow.keras.models import Model\n",
    "from tensorflow.keras.utils import image_dataset_from_directory, load_img\n",
    "from tensorflow.keras.preprocessing.image import ImageDataGenerator\n",
    "\n",
    "from pycocotools.coco import COCO\n",
    "\n",
    "import matplotlib.pyplot as plt\n",
    "import matplotlib.colors as mcolors\n",
    "from matplotlib.animation import FuncAnimation, PillowWriter\n",
    "from matplotlib.patches import Rectangle, Polygon, Circle\n",
    "\n",
    "import numpy as np\n",
    "import pandas as p230\n",
    "from tabulate import tabulate\n",
    "from IPython.display import HTML\n"
   ]
  },
  {
   "cell_type": "markdown",
   "metadata": {
    "id": "JBDzcsGO8oDv"
   },
   "source": [
    "```\n",
    "data_img_path = Path('/content/data/images')\n",
    "data_ann_path = Path('/content/data/mvtec_screws.json')\n",
    "coco = COCO(data_ann_path)\n",
    "img_ids = coco.getImgIds()\n",
    "imgs = coco.loadImgs(img_ids[-3:])\n",
    "```"
   ]
  },
  {
   "cell_type": "code",
   "execution_count": null,
   "metadata": {
    "cellView": "form",
    "id": "mvBvAOvgzhLG"
   },
   "outputs": [],
   "source": [
    "#@title\n",
    "pp.PrettyPrinter(indent=4)"
   ]
  },
  {
   "cell_type": "markdown",
   "metadata": {
    "id": "hzEd40DVKdE2"
   },
   "source": [
    "## Configure Color Picker"
   ]
  },
  {
   "cell_type": "code",
   "execution_count": null,
   "metadata": {
    "id": "TzlwnBc9JDm7"
   },
   "outputs": [],
   "source": [
    "COLORS = list(mcolors.TABLEAU_COLORS.keys())\n",
    "def a_color(a_range:int, colors:list=COLORS):\n",
    "    for _ in range(a_range):\n",
    "        yield np.random.choice(colors)\n"
   ]
  },
  {
   "cell_type": "markdown",
   "metadata": {
    "id": "igaySUMfQ7e9"
   },
   "source": [
    "# Create Train and Test Labels\n"
   ]
  },
  {
   "cell_type": "markdown",
   "metadata": {
    "id": "QD-xB5lds-Bp"
   },
   "source": [
    "## Gather Train/Val/Test Info"
   ]
  },
  {
   "cell_type": "code",
   "execution_count": null,
   "metadata": {
    "id": "2pjwmXB4Lcf3"
   },
   "outputs": [],
   "source": [
    "train_file = Path(\"/content/mvtec_screws_train.json\")\n",
    "X_train_path = Path('/content/bbox/train/images')\n",
    "y_train_path = Path(\"/content/bbox/train\")\n",
    "train_db = COCO(train_file)\n",
    "\n",
    "train_ids = train_db.getImgIds()\n",
    "train_imgs = train_db.loadImgs(train_ids)\n",
    "print(f\"Found {len(train_imgs)} training images\")"
   ]
  },
  {
   "cell_type": "code",
   "execution_count": null,
   "metadata": {
    "id": "BWEeWSeRpAZe"
   },
   "outputs": [],
   "source": [
    "val_file = Path(\"/content/mvtec_screws_val.json\")\n",
    "X_val_path = Path('/content/bbox/val/images')\n",
    "y_val_path = Path(\"/content/bbox/val\")\n",
    "val_db = COCO(val_file)\n",
    "\n",
    "val_ids = val_db.getImgIds()\n",
    "val_imgs = val_db.loadImgs(val_ids)\n",
    "print(f\"Found {len(val_imgs)} validation images!\")"
   ]
  },
  {
   "cell_type": "code",
   "execution_count": null,
   "metadata": {
    "id": "OEXrK4mVNx-E"
   },
   "outputs": [],
   "source": [
    "test_file = Path(\"/content/mvtec_screws_test.json\")\n",
    "X_test_path = Path('/content/bbox/test/images')\n",
    "y_test_path = Path(\"/content/bbox/test\")\n",
    "test_db = COCO(test_file)\n",
    "\n",
    "test_ids = test_db.getImgIds()\n",
    "test_imgs = test_db.loadImgs(test_ids)\n",
    "print(f\"Found {len(test_imgs)} test images\")"
   ]
  },
  {
   "cell_type": "code",
   "execution_count": null,
   "metadata": {
    "id": "2mMd_7gNLgmL"
   },
   "outputs": [],
   "source": [
    "ann_id = val_db.getAnnIds(img['id'])\n",
    "annot = val_db.loadAnns(ann_id)"
   ]
  },
  {
   "cell_type": "code",
   "execution_count": null,
   "metadata": {
    "id": "sQ0oko8eM8VZ"
   },
   "outputs": [],
   "source": [
    "class data_generator:\n",
    "    def __init__(self,\n",
    "                 X_path:str,\n",
    "                 y_path:str, \n",
    "                 categories:List[int],\n",
    "                 input_shape:Tuple[int, int],\n",
    "                 target_size:Union[Tuple[int,], Tuple[int, int], None]=None,\n",
    "                 batch_size=32):\n",
    "        \"\"\"\n",
    "\n",
    "        \"\"\"         \n",
    "        self.X_path = self.clean_path(X_path)\n",
    "        self.y_path = self.clean_path(y_path)\n",
    "        self.input_shape = input_shape\n",
    "        self.target_size = self._compute_target_size(target_size)\n",
    "        self.X_stack = self._get_X()\n",
    "        self.y_stack = self._get_y()\n",
    "        \n",
    "    \n",
    "    def clean_path(self, path):\n",
    "        if path.endswith('/'):\n",
    "            return path[:-1]\n",
    "    \n",
    "    def _compute_target_size(self, target_size):\n",
    "        if target_size == (0,):\n",
    "            target = target_size[0]\n",
    "            a_val = self.input_shape[0]\n",
    "            b_val = self.input_shape[1]\n",
    "\n",
    "            a_target = np.sqrt(np.multiply(target**2, a_val) / b_val)\n",
    "            b_target = np.sqrt(np.multiply(target**2, b_val) / a_val)\n",
    "\n",
    "            output = (round(a_target), round(b_target))\n",
    "            return output\n",
    "        try:\n",
    "            assert(len(target_size) == 2 or target_size is None)\n",
    "        except AssertionError as err:\n",
    "            print(\"target_size must be in the form Tuple[int,], Tuple[int, int] or None\")\n",
    "            raise\n",
    "        return target_size\n",
    "            \n",
    "    def _get_X(self) -> np.ndarray:\n",
    "        # get my images\n",
    "        #   use the list of images to get \n",
    "        #   labels and form them into an\n",
    "        #   array of class labels\n",
    "        X_set = np.empty((0,), dtype=np.float32)\n",
    "        print(f\"Working on grabbing images...\")\n",
    "        for file in iglob(f\"{self.X_path}/*\"):\n",
    "            X_img = np.asarray(load_img(file, target_size=self.target_size), dtype=np.float32)\n",
    "            if X_set.shape == (0,):\n",
    "                X_set = np.empty(shape=(0,) + X_img.shape, dtype=np.float32)\n",
    "            X_set = np.append(X_set, X_img.reshape((1,) + X_img.shape), axis=0)\n",
    "            if len(X_set) % 10 == 0:\n",
    "                print(\"[]\", end=\"\")\n",
    "        print(f\"\\n\\nReturning Image stack with shape: {X_set.shape}\")\n",
    "        return X_set\n",
    "\n",
    "    def _get_y(self) -> np.ndarray:\n",
    "        y_set = np.empty((0,), dtype=np.int8)\n",
    "        print(\"\\n\\nCompiling mask layers for each image...\")\n",
    "        for x_file in iglob(f\"{self.X_path}/*\"):\n",
    "            y_mask = np.empty((0,), dtype=np.int8)\n",
    "\n",
    "            for y_file in iglob(f\"{self.y_path}/**/*{os.path.basename(x_file)}\"):\n",
    "                y_layer = np.asarray(load_img(y_file, color_mode=\"grayscale\", target_size=self.target_size), dtype=np.float32)\n",
    "                y_layer = y_layer.reshape((1,) + y_layer.shape + (1,))\n",
    "\n",
    "                if y_mask.shape == (0,):\n",
    "                    y_mask = y_layer\n",
    "                    continue\n",
    "                y_mask = np.append(y_mask, y_layer, axis=3)\n",
    "\n",
    "            if y_set.shape == (0,):\n",
    "                y_set = np.empty((0,) + y_mask.shape[1:], dtype=np.int8)\n",
    "            y_set = np.append(y_set, y_mask, axis=0)\n",
    "            if len(y_set) % 10 == 0:\n",
    "                print(\"[]\", end=\"\")\n",
    "        print(f\"\\n\\nReturning mask stack with shape: {y_set.shape}\")\n",
    "        return y_set\n"
   ]
  },
  {
   "cell_type": "code",
   "execution_count": null,
   "metadata": {
    "id": "JLQsrPTqp_L2"
   },
   "outputs": [],
   "source": [
    "def rotate(input, center, phi):\n",
    "    vector = np.subtract(input, center)\n",
    "    id = np.asarray([[np.cos(phi), -np.sin(phi)],\n",
    "                     [np.sin(phi), np.cos(phi)]], \n",
    "                    dtype=np.float32)\n",
    "    vector = np.matmul(id, vector)\n",
    "    return np.add(vector, center)\n",
    "\n",
    "def get_bbox(file_name):\n",
    "    for img in val_imgs:\n",
    "        if img['file_name'] == file_name:\n",
    "            ann_id = val_db.getAnnIds(img['id'])\n",
    "            annot = val_db.loadAnns(ann_id)\n",
    "            bbox_truth = make_masks(annot, (1440, 1920), draw_bbox=False, draw_center=True)\n",
    "            print(bbox_truth.shape)\n",
    "    return bbox_truth \n",
    "\n",
    "def process_bbox(data:list) -> np.ndarray:\n",
    "    results = np.zeros((1, 14, 2, 2), dtype=np.float32)\n",
    "    center_line = np.empty((0,), dtype=np.float32)\n",
    "    for cat in range(1, 14, 1):\n",
    "        entry_bboxes = np.empty((0, 2, 2), dtype=np.float32)\n",
    "        for entry in data: \n",
    "            bbox = np.zeros((1, 2, 2), dtype=np.float32)\n",
    "            if entry['category_id'] == cat:\n",
    "                # grab bbox info\n",
    "                row, col, width, height, phi = entry['bbox']\n",
    "                # define center point of bbox\n",
    "                center = np.array([col, row])\n",
    "                # -pi to pi -> 0 to 2*pi \n",
    "                phi = -1 * (phi - np.pi)\n",
    "                # initial bounds\n",
    "                y0, y1 = row-height/2, row+height/2\n",
    "                x0, x1 = col-width/2, col+width/2\n",
    "                # corner points\n",
    "                # corners = [(x0, y0), (x0, y1), (x1, y1), (x1, y0)] # Corners\n",
    "                corners = [(x0, y0), (x1, y1)]\n",
    "                # rotate_box([p0, p1, p2, p3], center, phi)\n",
    "                bbox = [rotate(point, center, phi) for point in corners]\n",
    "                input_size = (1440, 1920)\n",
    "                target_size = (192, 256)\n",
    "                for i, (x, y) in enumerate(bbox):\n",
    "                    x = x * target_size[1] / input_size[1]\n",
    "                    y = y * target_size[0] / input_size[0]\n",
    "                    bbox[i] = (x, y)\n",
    "                    \n",
    "                # rotated corners\n",
    "                bbox = np.array(bbox, dtype=np.float32)\n",
    "                bbox = bbox.reshape((1,) + bbox.shape)\n",
    "                print(bbox.shape)\n",
    "                # bpoints = np.array([np.mean([rp0, rp1], axis=0), np.mean([rp2, rp3], axis=0)])\n",
    "            entry_bboxes = np.append(entry_bboxes, bbox, axis=0)\n",
    "        print(entry_bboxes.shape)\n",
    "        print(results.shape)\n",
    "         \n",
    "        results = np.append(results, entry_bboxes, axis=0)\n",
    "    \n",
    "    return bbox_points\n",
    "\n",
    "    \n",
    "val_image = \"screws_099.png\"\n",
    "img_array = np.asarray(load_img(f\"/content/images/val/{val_image}\", target_size=(192, 256)), dtype=np.float32) / 255\n",
    "plt.imshow(img_array)\n",
    "bboxes = get_bbox(val_image)\n",
    "print(bboxes.shape)\n",
    "for xy in bboxes:\n",
    "    x, y = [[x for x, y in xy], [y for x, y in xy]]\n",
    "    x.append(x[0])\n",
    "    y.append(y[0])\n",
    "    plt.plot(x, y)\n",
    "plt.axis('off')\n",
    "plt.show()"
   ]
  },
  {
   "cell_type": "markdown",
   "metadata": {
    "id": "5lc3JVLgNZ8I"
   },
   "source": [
    "### Problems\n",
    "* Photos have multiple objects belonging to the same class\n",
    "* Photos have uneven amounts of objects and classes\n",
    "\n",
    "### Solutions\n",
    "1. Build a SSD or some form of Fast R-NN network.\n",
    "    - Pros\n",
    "        * This is the correct way to do it.\n",
    "    - Cons\n",
    "        * I don't know how to do this and it's not simple.\n",
    "        * It's almost certianly impossible in the time I have left.\n",
    "2. Collapse label masks into one layer with class values as floats and then use the CNN structure you already have to predict it. \n",
    "    - Pros\n",
    "        * I could probably have this ready to start training today.\n",
    "    - Cons:\n",
    "        * This would probably not work super well. \n",
    "3. Don't predict bounding boxes or segementation just use a vgg16 classifier into a fully connected block to predict class labels for each image.\n",
    "    - Pros\n",
    "        * It's pretty simple, and easy.\n",
    "    - Cons\n",
    "        * It's very boring and would require a lot of reworking of the data. Probably not a huge amount but a nontrivial amount\n",
    "\n",
    "4. Build an unsupervised Segmentation model\n",
    "    - Pros\n",
    "        * This is challenging and interesting\n",
    "    - Cons\n",
    "        * I probably can't do this\n",
    "        * It's a complicated and difficult problem. There are no ready made solutions.\n"
   ]
  },
  {
   "cell_type": "code",
   "execution_count": null,
   "metadata": {
    "id": "kIP2sUqdIXKf"
   },
   "outputs": [],
   "source": []
  },
  {
   "cell_type": "code",
   "execution_count": null,
   "metadata": {
    "id": "VFTeEvZTNJ1o"
   },
   "outputs": [],
   "source": [
    "batch_gen = data_generator(\"/content/images/train/\", y_path=\"/content/bbox/train/\", categories=[], input_shape=(1440, 1920), target_size=(192, 256))    "
   ]
  },
  {
   "cell_type": "code",
   "execution_count": null,
   "metadata": {
    "id": "nwga400apoZ_"
   },
   "outputs": [],
   "source": [
    "# # flip = batch_gen.y_stack.copy() * -1\n",
    "# flip[0,150,160,:]\n",
    "# batch_gen.y_stack = flip\n",
    "print(tabulate(batch_gen.y_stack[0,135:150, 140:155,0]))"
   ]
  },
  {
   "cell_type": "code",
   "execution_count": null,
   "metadata": {
    "id": "3hyMFs6caP7Y"
   },
   "outputs": [],
   "source": [
    "plt.imshow(batch_gen.X_stack[0] / 255)\n",
    "plt.imshow(batch_gen.y_stack[0,:,:,0] / 255, cmap='gray', alpha=.4)\n",
    "plt.vlines(x=147, ymax=160, ymin=130, colors='red')\n",
    "plt.hlines(y=142, xmin=130, xmax=175, colors='red')"
   ]
  },
  {
   "cell_type": "markdown",
   "metadata": {
    "id": "0WmWtjTCYJhW"
   },
   "source": [
    "```python\n",
    "writer = PillowWriter(fps=2)\n",
    "fig, ax = plt.subplots(figsize=(8,5))\n",
    "def animate(i):\n",
    "    ax.imshow(batch_gen.X_stack[0]/255)\n",
    "    ax.imshow(batch_gen.y_stack[0,:,:,i] * -1, alpha=.5, cmap='gray')\n",
    "\n",
    "anim = FuncAnimation(fig, animate, frames=list(range(12)))\n",
    "anim.save(\"/content/mask_anim02_2fps.gif\", writer, dpi=300)\n",
    "```"
   ]
  },
  {
   "cell_type": "markdown",
   "metadata": {
    "id": "81Prx77WKgok"
   },
   "source": [
    "## Define Draw Bounding Box"
   ]
  },
  {
   "cell_type": "code",
   "execution_count": null,
   "metadata": {
    "id": "vmZzss7JCRwo"
   },
   "outputs": [],
   "source": [
    "def draw_box(data:dict, axis:plt.Axes):\n",
    "  for entry in data: \n",
    "    row, col, width, height, phi = entry['bbox']\n",
    "    angle = (180/np.pi) * -phi\n",
    "    x = col - width/2\n",
    "    y = row - height/2\n",
    "    bbox = axis.add_patch(\n",
    "        Rectangle((x,y), \n",
    "                  width,\n",
    "                  height,\n",
    "                  angle,\n",
    "                  rotation_point='center',\n",
    "                  edgecolor='green',\n",
    "                  facecolor=a_color(),\n",
    "                  linewidth=4,\n",
    "                  alpha=.3))\n",
    "  return axis"
   ]
  },
  {
   "cell_type": "markdown",
   "metadata": {
    "id": "huLvQI-aKrot"
   },
   "source": [
    "## Image with Bbox Annotation"
   ]
  },
  {
   "cell_type": "markdown",
   "metadata": {
    "id": "MvpB4nHC9sM8"
   },
   "source": [
    "```python\n",
    "fig, ax = plt.subplots(len(imgs), 2, figsize=(10, 12))\n",
    "for img, ax_n, in zip(imgs, ax):\n",
    "  ann_id = coco.getAnnIds([img['id']])\n",
    "  ann_data = coco.loadAnns(ann_id)\n",
    "  i_n = Image.open(f\"/content/data/images/{img['file_name']}\")\n",
    "  ax_n[0].imshow(i_n)\n",
    "  ax_n[0].axis('off')\n",
    "  ax_n[1].imshow(i_n)\n",
    "  ax_n[1] = draw_box(ann_data, ax_n[1])\n",
    "  ax_n[1].axis('off')\n",
    "fig.tight_layout()\n",
    "plt.show();\n",
    "```"
   ]
  },
  {
   "cell_type": "markdown",
   "metadata": {
    "id": "w66qt0fltKMx"
   },
   "source": [
    "## Copy Files into Separate Directories"
   ]
  },
  {
   "cell_type": "markdown",
   "metadata": {
    "id": "dlVKsozKO32J"
   },
   "source": [
    "```python\n",
    "for img in test_imgs:\n",
    "  shutil.copyfile(f\"/content/data/images/{img['file_name']}\",\n",
    "                  f\"/content/data/test/images/{img['file_name']}\")\n",
    "  shutil.copyfile(f\"/content/data/bbox/{img['file_name']}\", \n",
    "                  f\"/content/data/test/bbox/{img['file_name']}\")\n",
    "  shutil.copyfile(f\"/content/data/bbox_centers/{img['file_name']}\", \n",
    "                  f\"/content/data/test/center/{img['file_name']}\")\n",
    "```"
   ]
  },
  {
   "cell_type": "markdown",
   "metadata": {
    "id": "4tEa-_60p3X6"
   },
   "source": [
    "```python\n",
    "for img in val_imgs:\n",
    "  shutil.copyfile(f\"/content/data/full_set/images/{img['file_name']}\",\n",
    "                  f\"/content/data/val/images/{img['file_name']}\")\n",
    "  shutil.copyfile(f\"/content/data/full_set/bbox_mask/{img['file_name']}\", \n",
    "                  f\"/content/data/val/bbox/{img['file_name']}\")\n",
    "  shutil.copyfile(f\"/content/data/full_set/bbox_centers/{img['file_name']}\", \n",
    "                  f\"/content/data/val/center/{img['file_name']}\")\n",
    "```"
   ]
  },
  {
   "cell_type": "markdown",
   "metadata": {
    "id": "JfRIUVo4R2Mm"
   },
   "source": [
    "```python\n",
    "for img in train_imgs:\n",
    "  shutil.copyfile(f\"/content/data/images/{img['file_name']}\",\n",
    "                  f\"/content/data/train/images/{img['file_name']}\")\n",
    "  shutil.copyfile(f\"/content/data/bbox_mask/{img['file_name']}\", \n",
    "                  f\"/content/data/train/bbox/{img['file_name']}\")\n",
    "  shutil.copyfile(f\"/content/data/bbox_centers/{img['file_name']}\", \n",
    "                  f\"/content/data/train/center/{img['file_name']}\")\n",
    "```"
   ]
  },
  {
   "cell_type": "markdown",
   "metadata": {
    "id": "AntB3YjpAEyC"
   },
   "source": [
    "## Helper Functions For Making Masks"
   ]
  },
  {
   "cell_type": "code",
   "execution_count": null,
   "metadata": {
    "id": "3wy7iqLEq1hR"
   },
   "outputs": [],
   "source": [
    "def circle(radius, center_point):\n",
    "  circle = []\n",
    "  c_x, c_y = center_point\n",
    "  while radius > 0:\n",
    "    circ = round(radius**2 * np.pi)\n",
    "    for pixel in range(circ):\n",
    "      x, y = c_x + radius*np.cos(pixel * (2*np.pi)/circ),c_y + radius*np.sin(pixel * (2*np.pi)/circ) \n",
    "      circle.append((x, y))\n",
    "    radius -= 1\n",
    "  return circle\n",
    "  \n",
    "def rotate_point(vector, center, phi):\n",
    "  x, y = vector\n",
    "  i, j = center\n",
    "  vector = np.array([x-i, y-j], dtype=np.float32)\n",
    "  id = np.asarray([[np.cos(phi), -np.sin(phi)],\n",
    "                  [np.sin(phi), np.cos(phi)]], \n",
    "                  dtype=np.float32)\n",
    "  x, y = np.matmul(id, vector)\n",
    "  return np.array([x+i, y+j], dtype=np.float32)\n",
    "\n",
    "def rotate_box(box_edges:np.ndarray, center, phi):\n",
    "  for i, vec in enumerate(box_edges):\n",
    "    vec = rot_point(vec, center, phi)\n",
    "    box_edges[i] = vec\n",
    "    \n",
    "  return box_edges"
   ]
  },
  {
   "cell_type": "markdown",
   "metadata": {
    "id": "UpdR5yr-AKTv"
   },
   "source": [
    "## Define Mask Making Function"
   ]
  },
  {
   "cell_type": "code",
   "execution_count": null,
   "metadata": {
    "id": "1jsVtz96YQdk"
   },
   "outputs": [],
   "source": [
    "def make_masks(data:dict,\n",
    "               input_size:tuple=(None, None),\n",
    "               target_size:tuple=(None, None),\n",
    "               draw_bbox:bool=True,\n",
    "               draw_center:bool=False,\n",
    "               save_mask:bool=False, \n",
    "               file_name:str=None,\n",
    "               path_to_dir:str=None) -> np.ndarray:\n",
    "  \"\"\"\n",
    "  Function takes an image shape and a dictionary that defines a bounding box and\n",
    "  returns a numpy array version of the image mask.\n",
    "  \"\"\"\n",
    "  colors = ['red', 'blue', 'green', 'purple']\n",
    "  pick = np.random.choice\n",
    "  count = 0\n",
    "  result = np.empty(size + (0,), dtype=np.float32)\n",
    "  for cat in range(1, 14, 1):\n",
    "    mask = Image.new(\"L\", tuple(reversed(size)), color='black')\n",
    "    for entry in data: \n",
    "      if entry['category_id'] == cat:\n",
    "        draw = ImageDraw.Draw(mask, \"L\")\n",
    "        # grab bbox info\n",
    "        row, col, width, height, phi = entry['bbox']\n",
    "        # define center point of bbox\n",
    "        center = np.array([col, row])\n",
    "        # -pi to pi -> 0 to 2*pi \n",
    "        phi = phi + np.pi\n",
    "        # initial bounds\n",
    "        y0, y1 = row-height/2, row+height/2\n",
    "        x0, x1 = col-width/2, col+width/2\n",
    "        \n",
    "        # corner points\n",
    "        # corners = [(x0, y0), (x0, y1), (x1, y1), (x1, y0)] # Corners\n",
    "        corners = [(x0, y0), (x1, y1)]\n",
    "        # rotate_box([p0, p1, p2, p3], center, phi)\n",
    "        bbox = [rotate(point, center, phi) for point in corners]\n",
    "        input_size = (1440, 1920)\n",
    "        target_size = (192, 256)\n",
    "        for i, (x, y) in enumerate(bbox):\n",
    "            x = x * target_size[1] / input_size[1]\n",
    "            y = y * target_size[0] / input_size[0]\n",
    "            bbox[i] = (x, y)\n",
    "        \n",
    "        # draw mask shapes\n",
    "        if draw_bbox:\n",
    "          draw.polygon([rp0, rp1, rp2, rp3], fill='white')\n",
    "        if draw_center:\n",
    "          draw.polygon(circle(15, center), fill='white')\n",
    "    \n",
    "    if save_mask:    \n",
    "        mask.save(f\"{path_to_dir}/{cat:02d}_{file_name}\",\n",
    "                  format='png')\n",
    "    mask_data = np.asarray(mask, dtype=np.float32)\n",
    "    result = np.append(result, mask_data.reshape(size + (1,)), axis=2)\n",
    "  \n",
    "  return result"
   ]
  },
  {
   "cell_type": "markdown",
   "metadata": {
    "id": "wmccWultAUNk"
   },
   "source": [
    "## Make the Masks"
   ]
  },
  {
   "cell_type": "markdown",
   "metadata": {
    "id": "3K4lRq_bGp8l"
   },
   "source": []
  },
  {
   "cell_type": "markdown",
   "metadata": {
    "id": "CPM3ryM7RMgR"
   },
   "source": [
    "```python\n",
    "# fig, axs = plt.subplots(len(img_set[5:]), 2, figsize=(10, 20))\n",
    "img_dbs = {'val':val_db, 'test':test_db} # Done: 'train':train_db, \n",
    "img_ids = {'val':val_ids, 'test':test_ids} # Done: 'train':train_ids, \n",
    "for div, img_db in img_dbs.items():\n",
    "  img_set = img_db.loadImgs(img_ids[div])\n",
    "  for img in img_set:\n",
    "\n",
    "    arr_img = np.asarray(\n",
    "                    Image.open(f\"/content/data/{div}/images/{img['file_name']}\"),\n",
    "                    dtype=np.float32)\n",
    "\n",
    "    box_data = img_db.loadAnns(img_db.getAnnIds(img['id'])) \n",
    "\n",
    "\n",
    "    make_masks(box_data, size=arr_img.shape[:-1], # mask_bboxes = \n",
    "                        draw_bbox=True,\n",
    "                        draw_center=False,\n",
    "                        save_mask=True,\n",
    "                        file_name=img['file_name'],\n",
    "                        path_to_dir=f\"/content/data/{div}/bbox_by_cat/\")\n",
    "    \n",
    "    make_masks(box_data, size=arr_img.shape[:-1], # mask_centers = \n",
    "                        draw_bbox=False,\n",
    "                        draw_center=True,\n",
    "                        save_mask=True,\n",
    "                        file_name=img['file_name'],\n",
    "                        path_to_dir=f\"/content/data/{div}/cent_by_cat/\")\n",
    "  #   break\n",
    "  # break\n",
    "\n",
    "# fig, ax = plt.subplots(figsize=(8, 5))\n",
    "\n",
    "# def animate(i):\n",
    "#   ax.clear\n",
    "#   ax.imshow(arr_img / 255)\n",
    "#   ax.imshow(mask_bboxes[:,:,i], cmap='gray', alpha=.5)\n",
    "\n",
    "# writer = PillowWriter(fps=2)\n",
    "# ax.axis('off')\n",
    "# frames = list(range(13))\n",
    "# anim = FuncAnimation(fig, animate, frames=frames, save_count=13)\n",
    "# anim.save(\"/content/mask_anim_2fps.gif\", writer, dpi=72)\n",
    "# plt.close()\n",
    "# print(f\"mask layer shapes: {mask_bboxes.shape}\")\n",
    "```"
   ]
  },
  {
   "cell_type": "markdown",
   "metadata": {
    "id": "LCm98YdbNkNQ"
   },
   "source": [
    "# Baseline Model Definition"
   ]
  },
  {
   "cell_type": "markdown",
   "metadata": {
    "id": "T0UsEVQeNvYM"
   },
   "source": [
    "## Layer Definition"
   ]
  },
  {
   "cell_type": "markdown",
   "metadata": {
    "id": "YlWpzXQSN4IY"
   },
   "source": [
    "### Convolution Block Definition"
   ]
  },
  {
   "cell_type": "code",
   "execution_count": null,
   "metadata": {
    "id": "roHLs7tQNzy9"
   },
   "outputs": [],
   "source": [
    "def conv2d_block(x, filters, kernel_size=3, reps:int=2, pooling:bool=False, **kwargs):\n",
    "  residual = x\n",
    "  options = {}\n",
    "  if kwargs:\n",
    "    options.update(**kwargs)\n",
    "  for rep in range(reps):\n",
    "    if not rep:\n",
    "      options.update({'strides': 2})\n",
    "    else:\n",
    "      options['strides'] = 1\n",
    "    x = layers.BatchNormalization()(x)\n",
    "    x = layers.Activation(\"relu\")(x)\n",
    "    x = layers.SeparableConv2D(filters, kernel_size, padding=\"same\", use_bias=False, **options)(x)\n",
    "  \n",
    "  if pooling:\n",
    "    x = layers.MaxPooling2D(kernel_size, strides=2, padding=\"same\")(x)\n",
    "    # residual = layers.Conv2D(filters, 1, strides=2)(residual)\n",
    "  # elif filters != residual.shape[-1]:\n",
    "  #   residual = layers.Conv2D(filters, 1)(residual)\n",
    "  \n",
    "  # x = layers.add([x, residual])\n",
    "  return x"
   ]
  },
  {
   "cell_type": "markdown",
   "metadata": {
    "id": "prTOfqRVN90K"
   },
   "source": [
    "### Conv-Transpose (deconvolution) Layer Block Definition"
   ]
  },
  {
   "cell_type": "code",
   "execution_count": null,
   "metadata": {
    "id": "z-0Og9d9N29O"
   },
   "outputs": [],
   "source": [
    "def conv2d_T_block(x, filters, kernel_size=3, reps:int=2, **kwargs):\n",
    "  residual = x\n",
    "  options = {}\n",
    "  if kwargs:\n",
    "    options.update(**kwargs)\n",
    "  for rep in range(reps):\n",
    "    if not rep:\n",
    "      options.update({'strides': 2})\n",
    "    else:\n",
    "      options['strides'] = 1\n",
    "    x = layers.BatchNormalization()(x)\n",
    "    x = layers.Activation(\"relu\")(x)\n",
    "    x = layers.Conv2DTranspose(filters, kernel_size, padding=\"same\", use_bias=False, strides=2)(x)\n",
    "  \n",
    "  # residual = layers.Conv2D(filters, 1)(residual)\n",
    "  \n",
    "  # x = layers.add([x, residual])\n",
    "  return x"
   ]
  },
  {
   "cell_type": "markdown",
   "metadata": {
    "id": "jZtsraWMOKAw"
   },
   "source": [
    "## Model Definition"
   ]
  },
  {
   "cell_type": "code",
   "execution_count": null,
   "metadata": {
    "id": "Ft6utQRG__PL"
   },
   "outputs": [],
   "source": [
    "def get_model(input_shape, num_classes, filter_blocks:List, rescaling:bool=False, **kwargs):\n",
    "  inputs = tf.keras.Input(shape=input_shape)\n",
    "\n",
    "  x = layers.Rescaling(1./255)(inputs)\n",
    "    \n",
    "  for block in filter_blocks:\n",
    "    x = conv2d_block(x, block, pooling=True, **kwargs)\n",
    "  \n",
    "  r_filter_blocks = reversed(filter_blocks)\n",
    "  for t_block in r_filter_blocks:\n",
    "    x = conv2d_T_block(x, t_block, **kwargs)\n",
    "\n",
    "  # x = layers.GlobalAveragePooling2D()(x)\n",
    "  outputs = layers.Conv2D(num_classes, 3, activation='softmax', padding='same', name=\"output_layer\")(x)\n",
    "\n",
    "  model = tf.keras.Model(inputs, outputs)\n",
    "  return model"
   ]
  },
  {
   "cell_type": "code",
   "execution_count": null,
   "metadata": {
    "id": "0GvcxprKoqRA"
   },
   "outputs": [],
   "source": [
    "input_shape = batch_gen.X_stack[0].shape\n",
    "print(input_shape)\n"
   ]
  },
  {
   "cell_type": "code",
   "execution_count": null,
   "metadata": {
    "id": "aUaUGdfppCFg"
   },
   "outputs": [],
   "source": [
    "model = get_model(input_shape, 13, [39, 78, 156], rescaling=True)\n",
    "model.summary()"
   ]
  },
  {
   "cell_type": "code",
   "execution_count": null,
   "metadata": {
    "id": "_Wnxo3Pl73ve"
   },
   "outputs": [],
   "source": [
    "batch_gen.X_stack[0].shape"
   ]
  },
  {
   "cell_type": "code",
   "execution_count": null,
   "metadata": {
    "id": "PxAznVdq2ieS"
   },
   "outputs": [],
   "source": [
    "model.compile(optimizer='adam', loss='categorical_crossentropy')\n",
    "callbacks = tf.keras.callbacks.EarlyStopping(monitor='loss', min_delta=.05, patience=10)"
   ]
  },
  {
   "cell_type": "code",
   "execution_count": null,
   "metadata": {
    "id": "djmZkrmV4MVq"
   },
   "outputs": [],
   "source": [
    "history = model.fit(batch_gen.X_stack, batch_gen.y_stack / 255,\n",
    "                    batch_size=5,\n",
    "                    callbacks = [callbacks],\n",
    "                    epochs=150)"
   ]
  },
  {
   "cell_type": "code",
   "execution_count": null,
   "metadata": {
    "id": "VjLgz75i8mEC"
   },
   "outputs": [],
   "source": [
    "plt.plot(history.history['loss'])"
   ]
  },
  {
   "cell_type": "code",
   "execution_count": null,
   "metadata": {
    "id": "Igb5ntcK8x2T"
   },
   "outputs": [],
   "source": [
    "pred = model.predict(batch_gen.X_stack[60:67])\n",
    "fig, axs = plt.subplots(13, 6, figsize=(12, 26))\n",
    "for j in range(13):\n",
    "    for i, ax in zip(range(6), axs[j]):\n",
    "        ax.imshow(pred[i,:,:,j])\n",
    "        ax.axis('off')\n",
    "fig.tight_layout()\n",
    "plt.savefig('/content/base_model_output.png')\n",
    "plt.show()"
   ]
  },
  {
   "cell_type": "code",
   "execution_count": null,
   "metadata": {
    "id": "EF82wlkwFRRp"
   },
   "outputs": [],
   "source": [
    "compare = [batch_gen.X_stack[60:67] / 255, pred[:,:,:,2], np.max(batch_gen.y_stack[60:67] / 255, axis=3)]\n",
    "fig, axs = plt.subplots(3, 7, figsize=(21, 9))\n",
    "for j, itm in enumerate(compare):\n",
    "    for i, ax in enumerate(axs[j]):\n",
    "        ax.imshow(itm[i])\n",
    "        ax.axis('off')\n",
    "fig.tight_layout()\n",
    "plt.savefig('/content/base_model_compare.png')\n",
    "plt.show()"
   ]
  },
  {
   "cell_type": "code",
   "execution_count": null,
   "metadata": {
    "id": "UWge-GdGFmfv"
   },
   "outputs": [],
   "source": [
    "pred.shape"
   ]
  },
  {
   "cell_type": "markdown",
   "metadata": {
    "id": "oslMM0p5A4H2"
   },
   "source": [
    "# Data Organization"
   ]
  },
  {
   "cell_type": "markdown",
   "metadata": {
    "id": "xeHAJt2C3StB"
   },
   "source": [
    "# Configuring a Datagenerator"
   ]
  },
  {
   "cell_type": "code",
   "execution_count": null,
   "metadata": {
    "id": "pbcpRKm33Rdp"
   },
   "outputs": [],
   "source": [
    "test_data = data_generator('/content/images/test/', '/content/bbox/test/', list(range(1, 14, 1)), (1440, 1920), (192, 256))\n",
    "val_data =  data_generator('/content/images/val/', '/content/bbox/val/', list(range(1, 14, 1)), (1440, 1920), (192, 256))\n"
   ]
  },
  {
   "cell_type": "code",
   "execution_count": null,
   "metadata": {
    "id": "CSIeNpqxNIov"
   },
   "outputs": [],
   "source": [
    "train_data = data_generator('/content/images/train/', '/content/bbox/train/', list(range(1, 14, 1)), (1440, 1920), (192, 256)) "
   ]
  },
  {
   "cell_type": "code",
   "execution_count": null,
   "metadata": {
    "id": "UQ2lylm_5AsT"
   },
   "outputs": [],
   "source": [
    "def get_class_symbol(data:List[dict]) -> np.ndarray:\n",
    "    bbox_points = np.empty((0,), dtype=np.float32)\n",
    "    center_line = np.empty((0,), dtype=np.float32)\n",
    "    for cat in range(1, 14, 1):\n",
    "        for entry in data: \n",
    "            if entry['category_id'] == cat:\n",
    "            \n",
    "                # grab bbox info\n",
    "                row, col, width, height, phi = entry['bbox']\n",
    "                \n",
    "                # define center point of bbox\n",
    "                center = np.array([col, row])\n",
    "                # -pi to pi -> 0 to 2*pi \n",
    "                phi = phi + np.pi\n",
    "        \n",
    "                # initial bounds\n",
    "                y0, y1 = row-height/2, row+height/2\n",
    "                x0, x1 = col-width/2, col+width/2\n",
    "                \n",
    "                # corner points\n",
    "                p0, p1, p2, p3 = (x0, y0), (x0, y1), (x1, y1), (x1, y0)\n",
    "        \n",
    "                # rotation\n",
    "                # rotate_box([p0, p1, p2, p3], center, phi)\n",
    "                rx0, ry0 = rotate(p0, center, -phi)\n",
    "                rx1, ry1 = rotate(p1, center, -phi)\n",
    "                rx2, ry2 = rotate(p2, center, -phi)\n",
    "                rx3, ry3 = rotate(p3, center, -phi)\n",
    "        \n",
    "                # rotated corners\n",
    "                rp0 = (rx0, ry0)\n",
    "                rp1 = (rx1, ry1)\n",
    "                rp2 = (rx2, ry2)\n",
    "                rp3 = (rx3, ry3)\n",
    "                \n",
    "                # draw mask shapes\n",
    "                bbox = np.array([rp0, rp1, rp2, rp3])\n",
    "                bpoints = np.array([np.mean([rp0, rp1], axis=0), np.mean([rp2, rp3], axis=0)])\n",
    "\n",
    "                yield bbox, bpoints\n",
    "\n"
   ]
  },
  {
   "cell_type": "code",
   "execution_count": null,
   "metadata": {
    "id": "QjY_hxAFmk5D"
   },
   "outputs": [],
   "source": [
    "fig, axs = plt.subplots(6, figsize=(8, 20))\n",
    "colors = a_color(100)\n",
    "for i, ax in zip(range(6), axs):\n",
    "    cur_img = np.asarray(Image.open(f\"/content/images/val/{val_imgs[i]['file_name']}\"), dtype=np.float32)\n",
    "    ax.imshow(cur_img / 255)\n",
    "    ann_id = val_db.getAnnIds(val_imgs[i]['id'])\n",
    "    annot = val_db.loadAnns(ann_id)\n",
    "    points = get_class_symbol(annot)\n",
    "    for b, p in points:\n",
    "        color = next(colors)\n",
    "        # ax.add_patch(Polygon(b, color=color))\n",
    "        # print(b[0], b[1], b[2], b[3])\n",
    "        x, y = [[x for x,y in b], [y for x, y in b]]\n",
    "        x.append(x[0])\n",
    "        y.append(y[0])\n",
    "        ax.plot(x, y, color=color)\n",
    "        x0, y0 = p[0]\n",
    "        x1, y1 = p[1]\n",
    "        ax.plot([x0, x1], [y0, y1], color=color)\n",
    "\n",
    "    ax.axis('off')\n",
    "fig.tight_layout()\n",
    "plt.show()\n",
    "\n",
    "\n",
    "    "
   ]
  },
  {
   "cell_type": "markdown",
   "metadata": {
    "id": "3UhN0C31mkP_"
   },
   "source": []
  }
 ],
 "metadata": {
  "accelerator": "GPU",
  "colab": {
   "collapsed_sections": [
    "T0UsEVQeNvYM"
   ],
   "private_outputs": true,
   "provenance": []
  },
  "gpuClass": "standard",
  "kernelspec": {
   "display_name": "Python 3 (ipykernel)",
   "language": "python",
   "name": "python3"
  },
  "language_info": {
   "codemirror_mode": {
    "name": "ipython",
    "version": 3
   },
   "file_extension": ".py",
   "mimetype": "text/x-python",
   "name": "python",
   "nbconvert_exporter": "python",
   "pygments_lexer": "ipython3",
   "version": "3.10.8"
  }
 },
 "nbformat": 4,
 "nbformat_minor": 1
}
