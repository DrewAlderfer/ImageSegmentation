{
 "cells": [
  {
   "cell_type": "code",
   "execution_count": 1,
   "id": "669749df",
   "metadata": {},
   "outputs": [
    {
     "name": "stderr",
     "output_type": "stream",
     "text": [
      "2023-01-04 10:35:04.875787: I tensorflow/core/platform/cpu_feature_guard.cc:193] This TensorFlow binary is optimized with oneAPI Deep Neural Network Library (oneDNN) to use the following CPU instructions in performance-critical operations:  AVX2 AVX_VNNI FMA\n",
      "To enable them in other operations, rebuild TensorFlow with the appropriate compiler flags.\n",
      "2023-01-04 10:35:04.940512: I tensorflow/core/util/port.cc:104] oneDNN custom operations are on. You may see slightly different numerical results due to floating-point round-off errors from different computation orders. To turn them off, set the environment variable `TF_ENABLE_ONEDNN_OPTS=0`.\n"
     ]
    }
   ],
   "source": [
    "import pprint as pp\n",
    "\n",
    "import matplotlib as mpl\n",
    "from matplotlib.animation import FuncAnimation, PillowWriter\n",
    "from matplotlib.collections import PolyCollection\n",
    "pp.PrettyPrinter(indent=4)\n",
    "from typing import Tuple, Union, List\n",
    "import numpy as np\n",
    "from numpy.typing import ArrayLike, NDArray\n",
    "import matplotlib.pyplot as plt\n",
    "from matplotlib.patches import Rectangle, Polygon, Circle\n",
    "import tensorflow as tf\n",
    "from tensorflow.keras.utils import load_img\n",
    "\n",
    "from src.utils.funcs import init_COCO, process_img_annotations, rotate\n",
    "from src.utils.classes import CategoricalDataGen, bbox_worker\n",
    "from src.models.models import IoU, YOLOLoss\n",
    "from src.utils.box_cutter import BoundingBox_Processor\n",
    "\n",
    "from IPython.display import HTML\n",
    "\n"
   ]
  },
  {
   "cell_type": "code",
   "execution_count": 2,
   "id": "5bd292fa",
   "metadata": {},
   "outputs": [],
   "source": [
    "%load_ext autoreload"
   ]
  },
  {
   "cell_type": "code",
   "execution_count": 3,
   "id": "236442b9",
   "metadata": {},
   "outputs": [],
   "source": [
    "%autoreload 2\n",
    "%aimport src.utils.box_cutter\n",
    "%aimport src.utils.funcs\n",
    "%aimport src.utils.classes\n",
    "%aimport src.models"
   ]
  },
  {
   "cell_type": "code",
   "execution_count": 4,
   "id": "c5e0f5db",
   "metadata": {},
   "outputs": [],
   "source": [
    "np.set_printoptions(formatter={'float_kind':\"{:.4f}\".format})"
   ]
  },
  {
   "cell_type": "code",
   "execution_count": 5,
   "id": "690b0080",
   "metadata": {},
   "outputs": [
    {
     "name": "stdout",
     "output_type": "stream",
     "text": [
      "loading annotations into memory...\n",
      "Done (t=0.01s)\n",
      "creating index...\n",
      "index created!\n",
      "Found 269 train images\n",
      "loading annotations into memory...\n",
      "Done (t=0.00s)\n",
      "creating index...\n",
      "index created!\n",
      "Found 55 val images\n",
      "loading annotations into memory...\n",
      "Done (t=0.00s)\n",
      "creating index...\n",
      "index created!\n",
      "Found 60 test images\n"
     ]
    }
   ],
   "source": [
    "data = init_COCO(\"./data/\", [\"train\", \"val\", \"test\"])"
   ]
  },
  {
   "cell_type": "code",
   "execution_count": 6,
   "id": "15da8243",
   "metadata": {},
   "outputs": [],
   "source": [
    "test = CategoricalDataGen('test', data, \"./data/images\", target_size=(384, 512))"
   ]
  },
  {
   "cell_type": "code",
   "execution_count": 7,
   "id": "6a405b27",
   "metadata": {},
   "outputs": [],
   "source": [
    "xdivs = 12\n",
    "ydivs = 9"
   ]
  },
  {
   "cell_type": "code",
   "execution_count": 8,
   "id": "8df0af67",
   "metadata": {},
   "outputs": [
    {
     "data": {
      "text/plain": [
       "(60, 12, 9, 19)"
      ]
     },
     "execution_count": 8,
     "metadata": {},
     "output_type": "execute_result"
    }
   ],
   "source": [
    "labels = test.get_labels(divs=(ydivs, xdivs), num_classes=13, num_boxes=3,\n",
    "                input_size=(1440, 1920))\n",
    "labels.shape"
   ]
  },
  {
   "cell_type": "code",
   "execution_count": 9,
   "id": "99fbcffc",
   "metadata": {},
   "outputs": [
    {
     "name": "stdout",
     "output_type": "stream",
     "text": [
      "(60, 12, 9, 1)\n"
     ]
    }
   ],
   "source": [
    "preds = np.zeros((60, xdivs, ydivs, 13 + 3 * 6), dtype=np.float32)\n",
    "preds[...,:19] = preds[...,:19] + labels\n",
    "preds[..., 19:25] = labels[..., 13:19] \n",
    "preds[..., 25:] = labels[..., 13:19] bb\n",
    "b_e = preds[..., 13]\n",
    "b_e = b_e.reshape((preds.shape[:-1] + (1,)))\n",
    "print(b_e.shape)\n",
    "box_exists = np.concatenate((b_e, b_e, b_e, b_e, b_e), axis=-1)\n",
    "known_loss = np.asarray([10, 10, 5, 20, np.pi * .05])\n",
    "known_loss = np.full(preds.shape[:-1] + (5,), known_loss, dtype=np.float32)\n",
    "preds[..., 14:19] = known_loss + preds[..., 14:19]\n",
    "preds[..., 20:25] = box_exists * (preds[..., 20:25] + np.random.normal(0, 2, preds.shape[:-1] + (5,)))\n",
    "preds[..., 26:] = box_exists * (preds[..., 26:] + np.random.normal(0, 2, preds.shape[:-1] + (5,)))"
   ]
  },
  {
   "cell_type": "code",
   "execution_count": 10,
   "id": "371a9bee",
   "metadata": {},
   "outputs": [],
   "source": [
    "box_cutter = BoundingBox_Processor()"
   ]
  },
  {
   "cell_type": "code",
   "execution_count": 11,
   "id": "f53e963f",
   "metadata": {},
   "outputs": [
    {
     "name": "stderr",
     "output_type": "stream",
     "text": [
      "2023-01-04 10:35:21.766109: I tensorflow/compiler/xla/stream_executor/cuda/cuda_gpu_executor.cc:1026] could not open file to read NUMA node: /sys/bus/pci/devices/0000:01:00.0/numa_node\n",
      "Your kernel may have been built without NUMA support.\n",
      "2023-01-04 10:35:21.768211: I tensorflow/compiler/xla/stream_executor/cuda/cuda_gpu_executor.cc:1026] could not open file to read NUMA node: /sys/bus/pci/devices/0000:01:00.0/numa_node\n",
      "Your kernel may have been built without NUMA support.\n",
      "2023-01-04 10:35:21.768233: I tensorflow/compiler/xla/stream_executor/cuda/cuda_gpu_executor.cc:1026] could not open file to read NUMA node: /sys/bus/pci/devices/0000:01:00.0/numa_node\n",
      "Your kernel may have been built without NUMA support.\n",
      "2023-01-04 10:35:21.770746: I tensorflow/compiler/xla/stream_executor/cuda/cuda_gpu_executor.cc:1026] could not open file to read NUMA node: /sys/bus/pci/devices/0000:01:00.0/numa_node\n",
      "Your kernel may have been built without NUMA support.\n",
      "2023-01-04 10:35:21.770796: I tensorflow/compiler/xla/stream_executor/cuda/cuda_gpu_executor.cc:1026] could not open file to read NUMA node: /sys/bus/pci/devices/0000:01:00.0/numa_node\n",
      "Your kernel may have been built without NUMA support.\n",
      "2023-01-04 10:35:21.770809: I tensorflow/compiler/xla/stream_executor/cuda/cuda_gpu_executor.cc:1026] could not open file to read NUMA node: /sys/bus/pci/devices/0000:01:00.0/numa_node\n",
      "Your kernel may have been built without NUMA support.\n",
      "2023-01-04 10:35:22.518403: I tensorflow/compiler/xla/stream_executor/cuda/cuda_gpu_executor.cc:1026] could not open file to read NUMA node: /sys/bus/pci/devices/0000:01:00.0/numa_node\n",
      "Your kernel may have been built without NUMA support.\n",
      "2023-01-04 10:35:22.518452: I tensorflow/compiler/xla/stream_executor/cuda/cuda_gpu_executor.cc:1026] could not open file to read NUMA node: /sys/bus/pci/devices/0000:01:00.0/numa_node\n",
      "Your kernel may have been built without NUMA support.\n",
      "2023-01-04 10:35:22.518458: I tensorflow/core/common_runtime/gpu/gpu_device.cc:1701] Could not identify NUMA node of platform GPU id 0, defaulting to 0.  Your kernel may not have been built with NUMA support.\n",
      "2023-01-04 10:35:22.518475: I tensorflow/compiler/xla/stream_executor/cuda/cuda_gpu_executor.cc:1026] could not open file to read NUMA node: /sys/bus/pci/devices/0000:01:00.0/numa_node\n",
      "Your kernel may have been built without NUMA support.\n",
      "2023-01-04 10:35:22.518501: I tensorflow/core/common_runtime/gpu/gpu_device.cc:1614] Created device /job:localhost/replica:0/task:0/device:GPU:0 with 5151 MB memory:  -> device: 0, name: NVIDIA RTX A2000 8GB Laptop GPU, pci bus id: 0000:01:00.0, compute capability: 8.6\n"
     ]
    },
    {
     "name": "stdout",
     "output_type": "stream",
     "text": [
      "(60, 12, 9, 4, 2)\n"
     ]
    }
   ],
   "source": [
    "label_corners = box_cutter.get_corners(labels)\n",
    "pred_corners = box_cutter.get_corners(preds)\n",
    "pred_corners = pred_corners[0]\n",
    "label_corners = label_corners[0]\n",
    "print(pred_corners.shape)"
   ]
  },
  {
   "cell_type": "code",
   "execution_count": 12,
   "id": "7f65e17c",
   "metadata": {},
   "outputs": [
    {
     "name": "stdout",
     "output_type": "stream",
     "text": [
      "(60, 12, 9, 4, 2, 2)\n"
     ]
    }
   ],
   "source": [
    "true_edges = box_cutter.get_edges(label_corners)\n",
    "pred_edges = box_cutter.get_edges(pred_corners)\n",
    "print(pred_edges.shape)"
   ]
  },
  {
   "cell_type": "code",
   "execution_count": 13,
   "id": "004112ef",
   "metadata": {},
   "outputs": [],
   "source": [
    "intersection_points = box_cutter.construct_intersection(label_corners, pred_corners, return_centered=False)"
   ]
  },
  {
   "cell_type": "code",
   "execution_count": 14,
   "id": "9f837f16",
   "metadata": {},
   "outputs": [
    {
     "name": "stdout",
     "output_type": "stream",
     "text": [
      "IoU: (60, 12, 9)\n",
      "[nan nan nan nan 0.1963 nan 0.4273 nan 0.4948]\n"
     ]
    }
   ],
   "source": [
    "iou = box_cutter.calculate_iou(label_corners, pred_corners)\n",
    "print(f\"IoU: {iou.shape}\\n{iou[0, 5]}\")"
   ]
  },
  {
   "cell_type": "code",
   "execution_count": 15,
   "id": "e8efd875",
   "metadata": {},
   "outputs": [
    {
     "name": "stdout",
     "output_type": "stream",
     "text": [
      "C shape (60, 12, 9)\n",
      "Union: (60, 12, 9)\n",
      "Intersection: (60, 12, 9)\n"
     ]
    },
    {
     "data": {
      "text/plain": [
       "<tf.Tensor: shape=(9,), dtype=float32, numpy=\n",
       "array([nan, nan, nan, nan, 0.1960, nan, 0.4272, nan, 0.4947],\n",
       "      dtype=float32)>"
      ]
     },
     "execution_count": 15,
     "metadata": {},
     "output_type": "execute_result"
    }
   ],
   "source": [
    "giou = box_cutter.calculate_GIoU(label_corners, pred_corners)\n",
    "giou[0, 5]"
   ]
  },
  {
   "cell_type": "code",
   "execution_count": 12,
   "id": "bfa3e2e0",
   "metadata": {
    "lines_to_next_cell": 2
   },
   "outputs": [
    {
     "name": "stdout",
     "output_type": "stream",
     "text": [
      "tf.Tensor(\n",
      "[[51.1651 25.8246 1.0000]\n",
      " [69.0193 27.2821 1.0000]\n",
      " [75.9566 -1.2481 1.0000]\n",
      " [25.2475 -13.5783 1.0000]\n",
      " [-110.2454 -24.6385 1.0000]\n",
      " [-111.1431 -13.6418 1.0000]\n",
      " [0.0000 0.0000 1.0000]\n",
      " [0.0000 0.0000 1.0000]], shape=(8, 3), dtype=float32)\n",
      "tf.Tensor(\n",
      "[[[51.1651 25.8246 1.0000]\n",
      "  [69.0193 27.2821 1.0000]]\n",
      "\n",
      " [[75.9566 -1.2481 1.0000]\n",
      "  [25.2475 -13.5783 1.0000]]\n",
      "\n",
      " [[-110.2454 -24.6385 1.0000]\n",
      "  [-111.1431 -13.6418 1.0000]]\n",
      "\n",
      " [[0.0000 0.0000 1.0000]\n",
      "  [0.0000 0.0000 1.0000]]], shape=(4, 2, 3), dtype=float32)\n",
      "triangle_matrix: (60, 12, 9, 4, 2, 3)\n"
     ]
    }
   ],
   "source": [
    "img = np.asarray(load_img(\"./data/images/test/screws_006.png\", target_size=(384, 512)), dtype=np.float32)\n",
    "img = img / 255\n",
    "fig, ax = plt.subplots(figsize=(xdivs, ydivs))\n",
    "ax.imshow(img)\n",
    "y_true = label_corners[0]\n",
    "print(y_true.shape)\n",
    "y_true = tf.reshape(y_true, [ydivs * xdivs, 4, 2])\n",
    "for label in y_true:\n",
    "    # print(f\"Label:\\n{label}\")\n",
    "    bbox = label\n",
    "    ax.add_patch(Polygon(bbox, fill=None, edgecolor='tab:purple', lw=2))\n",
    "    ax.add_patch(Circle(np.mean(bbox, axis=0), radius=3, fill=None, edgecolor=\"red\", lw=2))\n",
    "    ax.scatter(bbox[2][0], bbox[2][1], marker='x', color='springgreen', s=60)\n",
    "    ax.scatter(bbox[0][0], bbox[0][1], marker='x', color='tomato', s=60)\n",
    "# y_pred = pred_corners[0]\n",
    "# y_pred = tf.reshape(y_pred, [ydivs * xdivs, 4, 2])\n",
    "# for pred in y_pred:\n",
    "#     bbox = pred\n",
    "#     ax.add_patch(Polygon(bbox, fill=None, edgecolor='tomato', lw=2))\n",
    "#     ax.add_patch(Circle(np.mean(bbox, axis=0), radius=3, fill=None, edgecolor=\"tab:blue\", lw=2))\n",
    "#     ax.scatter(bbox[2][0], bbox[2][1], marker='x', color='tab:blue', s=60)\n",
    "#     ax.scatter(bbox[0][0], bbox[0][1], marker='x', color='tab:blue', s=60)\n",
    "ax.axis('off')\n",
    "plt.savefig('./screws_with_label_boxes.png')\n",
    "plt.show()"
   ]
  },
  {
   "cell_type": "code",
   "execution_count": null,
   "id": "feaa1fbc",
   "metadata": {},
   "outputs": [],
   "source": [
    "print(label_corners[0, 5, 6].shape,label_corners[0, 5, 6].shape)\n",
    "test_box = label_corners[0, :, :]\n",
    "test_pred = pred_corners[0, :, :]\n",
    "test_intr = tf.constant(intersection_points[0, :, :, :8])"
   ]
  },
  {
   "cell_type": "code",
   "execution_count": 13,
   "id": "0282f61b",
   "metadata": {},
   "outputs": [
    {
     "name": "stdout",
     "output_type": "stream",
     "text": [
      "(60, 12, 9, 4, 2, 2)\n"
     ]
    }
   ],
   "source": [
    "for idx in range(6):\n",
    "\n",
    "    break"
   ]
  },
  {
   "cell_type": "code",
   "execution_count": 15,
   "id": "2f172392",
   "metadata": {},
   "outputs": [
    {
     "data": {
      "text/plain": [
       "[array([5.1807, 7.7800]),\n",
       " array([4.2809, 3.8825]),\n",
       " array([2.8193, 4.2200]),\n",
       " array([3.7191, 8.1175])]"
      ]
     },
     "execution_count": 15,
     "metadata": {},
     "output_type": "execute_result"
    }
   ],
   "source": [
    "fig, ax = plt.subplots(figsize=(8,6))\n",
    "ax.set(\n",
    "        xlim=[0, 512],\n",
    "        ylim=[0, 384],\n",
    "        xticks=list(range(0, 512,int(512/12))),\n",
    "        yticks=list(range(0, 384, int(384/9))),\n",
    "        # yticklabels=np.linspace(0, 9, 10),\n",
    "        # xticklabels=np.linspace(0, 12, 13)\n",
    "        )\n",
    "ax.grid(visible=True, zorder=0)\n",
    "ax.set_title(\"Example of Calculated Shape Intersection\")\n",
    "ax.imshow(np.asarray(load_img(\"./data/images/test/screws_006.png\", target_size=(384, 512))), zorder=0, alpha=.6)\n",
    "ax.set_facecolor('black')\n",
    "for cell in range(12 * 9):\n",
    "    cl = divmod(cell, 12) \n",
    "    check = tf.cast(tf.reduce_sum(test_box[cl[1], cl[0]]) < .001, dtype=tf.bool).numpy()\n",
    "    if check:\n",
    "        continue\n",
    "    mask = tf.cast(tf.reduce_sum(test_intr[cl[1], cl[0]], axis=-1) > 0.001, dtype=tf.bool)\n",
    "    test_inter_ma = tf.boolean_mask(test_intr[cl[1], cl[0]], mask)\n",
    "    ax.add_patch(Polygon(test_box[cl[1], cl[0]], fill=None, edgecolor='chartreuse', lw=1, zorder=20))\n",
    "    ax.add_patch(Polygon(test_pred[cl[1], cl[0]], fill=None, edgecolor='fuchsia', lw=1, zorder=20))\n",
    "    ax.add_patch(Polygon(test_inter_ma, facecolor='palegreen', edgecolor='springgreen', lw=1, alpha=.4, zorder=10))\n",
    "ax.axhline(0, -10, 10, lw=1, color='black', linestyle='--', zorder=5)\n",
    "ax.axvline(0, -10, 10, lw=1, color='black', linestyle='--', zorder=5)\n",
    "plt.savefig(\"./images/bbox_intersection.png\")\n",
    "plt.show()"
   ]
  },
  {
   "cell_type": "code",
   "execution_count": 16,
   "id": "67559546",
   "metadata": {},
   "outputs": [
    {
     "name": "stdout",
     "output_type": "stream",
     "text": [
      "tf.Tensor(\n",
      "[[279.6179 159.3425]\n",
      " [265.7286 144.4976]\n",
      " [218.5303 188.6575]\n",
      " [232.4196 203.5024]], shape=(4, 2), dtype=float32)\n",
      "tf.Tensor(\n",
      "[[295.0650 158.3904]\n",
      " [275.0793 142.8293]\n",
      " [223.0832 209.6096]\n",
      " [243.0689 225.1707]], shape=(4, 2), dtype=float32)\n"
     ]
    }
   ],
   "source": [
    "mpl.rcParams['animation.embed_limit'] = 400\n",
    "fig, ax = plt.subplots(figsize=(8,6))\n",
    "ax.set(\n",
    "        xlim=[0, 512],\n",
    "        ylim=[0, 384],\n",
    "        xticks=list(range(0, 512,int(512/12))),\n",
    "        yticks=list(range(0, 384, int(384/9))),\n",
    "        # yticklabels=np.linspace(0, 9, 10),\n",
    "        # xticklabels=np.linspace(0, 12, 13)\n",
    "        )\n",
    "ax.grid(visible=True, zorder=0)\n",
    "ax.set_title(\"Example of Calculated Shape Intersection\")\n",
    "ax.set_facecolor('black')\n",
    "ax.imshow(np.asarray(load_img(\"./data/images/test/screws_006.png\", target_size=(384, 512))), zorder=0, alpha=.6)\n",
    "def show_frame(frame):\n",
    "    for cell in range(0 + frame, 9 * 12, 1):\n",
    "        cl = divmod(cell, 12) \n",
    "        check = tf.cast(tf.reduce_sum(test_box[cl[1], cl[0]]) < .001, dtype=tf.bool).numpy()\n",
    "        if check:\n",
    "            return None, timer \n",
    "        y_true = Polygon(test_box[cl[1], cl[0]], fill=None, edgecolor='chartreuse', lw=1, zorder=20)\n",
    "        y_pred = Polygon(test_pred[cl[1], cl[0]], fill=None, edgecolor='fuchsia', lw=1, zorder=20)\n",
    "        intersection = Polygon(test_inter_ma, facecolor='palegreen', edgecolor='springgreen', lw=1, alpha=.4, zorder=10)\n",
    "        timer = frame\n",
    "        return True, timer,   \n",
    "        \n",
    "\n",
    "def animation(i):\n",
    "    check,  = show_frame(i)\n",
    "    if not check:\n",
    "        return\n",
    "    mask = tf.cast(tf.reduce_sum(test_intr[cl[1], cl[0]], axis=-1) > 0.001, dtype=tf.bool)\n",
    "    test_inter_ma = tf.boolean_mask(test_intr[cl[1], cl[0]], mask)\n",
    "    ax.add_patch(y_true)\n",
    "    ax.add_patch()\n",
    "    ax.add_patch()\n",
    "\n",
    "pillow = PillowWriter(fps=15)\n",
    "ax.axhline(0, -10, 10, lw=1, color='black', linestyle='--', zorder=5)\n",
    "ax.axvline(0, -10, 10, lw=1, color='black', linestyle='--', zorder=5)\n",
    "anim = FuncAnimation(fig, animation, frames=9*12)\n",
    "# anim.save(\"./images/intersection_anim.gif\", writer=pillow, dpi=100)\n",
    "HTML(anim.to_jshtml(fps=15))\n",
    "# plt.close()"
   ]
  },
  {
   "cell_type": "code",
   "execution_count": 17,
   "id": "4579aad6",
   "metadata": {
    "lines_to_next_cell": 1
   },
   "outputs": [
    {
     "data": {
      "image/png": "[encoded data removed]",
      "text/plain": [
       "<Figure size 800x800 with 1 Axes>"
      ]
     },
     "metadata": {},
     "output_type": "display_data"
    }
   ],
   "source": [
    "points = []\n",
    "knudge = 512 / 12\n",
    "start = np.array([knudge/2, knudge/2])\n",
    "for cell in range(12 * 9):\n",
    "    v, u = divmod(cell, 12)\n",
    "    points.append(start + [u*knudge, v*knudge])\n",
    "    x, y = [[x for x, y in points],\n",
    "            [y for x, y in points]]\n",
    "    print(x[:10])\n",
    "    plt.scatter(x, y)"
   ]
  },
  {
   "cell_type": "code",
   "execution_count": null,
   "id": "8af93b8a",
   "metadata": {
    "lines_to_next_cell": 1
   },
   "outputs": [],
   "source": [
    "def find_cells(test_box, test_pred, test_intr):\n",
    "    result = []\n",
    "    print(test_box.shape)\n",
    "    x_dim, y_dim = test_box.shape[0:2]\n",
    "    for cell in range(x_dim * y_dim):\n",
    "        x, y = divmod(cell, x_dim) \n",
    "        check = tf.cast(tf.reduce_sum(test_box[y, x]) < .001, dtype=tf.bool).numpy()\n",
    "        if check:\n",
    "            continue\n",
    "        print(test_intr[y, x])\n",
    "        mask = tf.cast(tf.reduce_sum(test_intr[y, x], axis=-1) > 0.001, dtype=tf.bool)\n",
    "        y_intr = tf.boolean_mask(test_intr[y, x], mask)\n",
    "        print(y_intr)\n",
    "        y_true = test_box[y, x]\n",
    "        y_pred = test_pred[y, x]\n",
    "        result.append((y_true, y_pred, y_intr)) \n",
    "    return result"
   ]
  },
  {
   "cell_type": "code",
   "execution_count": null,
   "id": "70f9192c",
   "metadata": {},
   "outputs": [],
   "source": [
    "poly_list = find_cells(test_box, test_pred, test_intr)\n",
    "print(len(poly_list))\n",
    "print(poly_list[0][2])"
   ]
  },
  {
   "cell_type": "code",
   "execution_count": null,
   "id": "aef9b886",
   "metadata": {},
   "outputs": [],
   "source": [
    "fig, ax = plt.subplots(figsize=(8,6))\n",
    "def animation(i):\n",
    "    if i > 0:\n",
    "        ax.clear()\n",
    "    ax.tick_params(axis=\"both\",\n",
    "                   which=\"both\",\n",
    "                   bottom=False,\n",
    "                   left=False,\n",
    "                   labelbottom=False,\n",
    "                   labelleft=False)\n",
    "    ax.set(\n",
    "            xlim=[0, 512],\n",
    "            ylim=[0, 384],\n",
    "            xticks=list(range(0, 512,int(512/12))),\n",
    "            yticks=list(range(0, 384, int(384/9))),\n",
    "            # yticklabels=np.linspace(0, 9, 10),\n",
    "            # xticklabels=np.linspace(0, 12, 13)\n",
    "            )\n",
    "    ax.grid(visible=True, color=\"black\", zorder=0)\n",
    "    ax.set_title(\"Example of Calculated Shape Intersection\")\n",
    "    ax.imshow(np.asarray(load_img(\"./data/images/test/screws_006.png\", target_size=(384, 512))), zorder=0, alpha=1)\n",
    "    ax.add_patch(Polygon(poly_list[i][0], fill=None, edgecolor='chartreuse', lw=1, zorder=20))\n",
    "    ax.add_patch(Polygon(poly_list[i][1], fill=None, edgecolor='fuchsia', lw=1, zorder=20))\n",
    "    ax.add_patch(Polygon(poly_list[i][2], facecolor='palegreen', edgecolor='springgreen', lw=1, alpha=.5, zorder=10))\n",
    "\n",
    "anim = FuncAnimation(fig, animation, frames=len(poly_list))\n",
    "# anim.save(\"./images/intr_anim3.gif\", fps=1)\n",
    "plt.close()"
   ]
  },
  {
   "cell_type": "code",
   "execution_count": null,
   "id": "cbae9f3f",
   "metadata": {},
   "outputs": [],
   "source": [
    "fig, ax = plt.subplots(figsize=(6,6))\n",
    "for i in range(len(poly_list)):\n",
    "    ax.clear()\n",
    "    box = poly_list[i][0].numpy()\n",
    "    maxX, maxY = np.max(box.T, axis=-1)\n",
    "    minX, minY = np.min(box.T, axis=-1)\n",
    "    size = np.max([maxX - minX, maxY - minY]) + 50\n",
    "    max = np.max(box.T, axis=-1)\n",
    "    min = np.min(box.T, axis=-1)\n",
    "    center = (max - min) / 2 + min\n",
    "    x_limit = [center[0] - size/2, center[0] + size/2]\n",
    "    y_limit = [center[1] - size/2, center[1] + size/2]\n",
    "    ax.tick_params(axis=\"both\",\n",
    "                   which=\"both\",\n",
    "                   bottom=False,\n",
    "                   left=False,\n",
    "                   labelbottom=False,\n",
    "                   labelleft=False)\n",
    "    ax.set(\n",
    "            xlim=x_limit,\n",
    "            ylim=y_limit,\n",
    "            xticks=list(range(round(x_limit[0]), round(x_limit[1]),int(512/12))),\n",
    "            yticks=list(range(round(y_limit[0]), round(y_limit[1]), int(384/9))),\n",
    "            # yticklabels=np.linspace(0, 9, 10),\n",
    "            # xticklabels=np.linspace(0, 12, 13)\n",
    "            )\n",
    "    ax.grid(visible=True, color=\"gray\", zorder=0)\n",
    "    ax.set_title(\"Calculate Intersection\", fontsize=14)\n",
    "    ax.add_patch(Polygon(poly_list[i][0], fill=None, edgecolor='tab:blue', lw=1.5, zorder=20))\n",
    "    ax.add_patch(Polygon(poly_list[i][1], fill=None, edgecolor='tab:gray', lw=1.5, zorder=20))\n",
    "    ax.add_patch(Polygon(poly_list[i][2], fill=None, edgecolor='springgreen', lw=4.5, zorder=200, alpha=.3))\n",
    "    ax.add_patch(Polygon(poly_list[i][2], facecolor='gray', edgecolor=None, alpha=.5, zorder=100))\n",
    "    # plt.savefig(f\"./images/intr_shape_{i:03d}\")\n",
    "plt.show()"
   ]
  }
 ],
 "metadata": {
  "jupytext": {
   "cell_metadata_filter": "-all",
   "formats": "ipynb,auto:percent",
   "notebook_metadata_filter": "-all"
  },
  "kernelspec": {
   "display_name": "Python 3 (ipykernel)",
   "language": "python",
   "name": "python3"
  },
  "language_info": {
   "codemirror_mode": {
    "name": "ipython",
    "version": 3
   },
   "file_extension": ".py",
   "mimetype": "text/x-python",
   "name": "python",
   "nbconvert_exporter": "python",
   "pygments_lexer": "ipython3",
   "version": "3.10.8"
  }
 },
 "nbformat": 4,
 "nbformat_minor": 5
}
